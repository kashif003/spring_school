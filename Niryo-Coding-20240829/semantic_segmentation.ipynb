{
 "cells": [
  {
   "cell_type": "code",
   "execution_count": 1,
   "metadata": {
    "jupyter": {
     "is_executing": true
    }
   },
   "outputs": [
    {
     "ename": "ModuleNotFoundError",
     "evalue": "No module named 'pyniryo2'",
     "output_type": "error",
     "traceback": [
      "\u001b[1;31m---------------------------------------------------------------------------\u001b[0m",
      "\u001b[1;31mModuleNotFoundError\u001b[0m                       Traceback (most recent call last)",
      "Cell \u001b[1;32mIn[1], line 6\u001b[0m\n\u001b[0;32m      4\u001b[0m \u001b[38;5;28;01mimport\u001b[39;00m \u001b[38;5;21;01mnumpy\u001b[39;00m \u001b[38;5;28;01mas\u001b[39;00m \u001b[38;5;21;01mnp\u001b[39;00m\n\u001b[0;32m      5\u001b[0m \u001b[38;5;28;01mfrom\u001b[39;00m \u001b[38;5;21;01msegment_anything\u001b[39;00m \u001b[38;5;28;01mimport\u001b[39;00m sam_model_registry, SamPredictor\n\u001b[1;32m----> 6\u001b[0m \u001b[38;5;28;01mfrom\u001b[39;00m \u001b[38;5;21;01mpyniryo2\u001b[39;00m \u001b[38;5;28;01mimport\u001b[39;00m \u001b[38;5;241m*\u001b[39m  \u001b[38;5;66;03m# For controlling the Niryo robot and accessing the camera\u001b[39;00m\n\u001b[0;32m      7\u001b[0m \u001b[38;5;28;01mimport\u001b[39;00m \u001b[38;5;21;01mpyniryo\u001b[39;00m  \u001b[38;5;66;03m# Additional functionalities from pyniryo2\u001b[39;00m\n\u001b[0;32m      9\u001b[0m \u001b[38;5;66;03m# Load the SAM model\u001b[39;00m\n",
      "\u001b[1;31mModuleNotFoundError\u001b[0m: No module named 'pyniryo2'"
     ]
    }
   ],
   "source": [
    "# completed segmentation\n",
    "import torch\n",
    "import cv2\n",
    "import numpy as np\n",
    "from segment_anything import sam_model_registry, SamPredictor\n",
    "from pyniryo2 import *  # For controlling the Niryo robot and accessing the camera\n",
    "import pyniryo  # Additional functionalities from pyniryo2\n",
    "\n",
    "# Load the SAM model\n",
    "device = \"cuda\" if torch.cuda.is_available() else \"cpu\"\n",
    "sam = sam_model_registry[\"vit_b\"](checkpoint=\"sam_vit_b_01ec64.pth\")\n",
    "sam.to(device)\n",
    "\n",
    "# Create predictor\n",
    "predictor = SamPredictor(sam)\n",
    "\n",
    "# Set up the ROS instance for the Niryo robot\n",
    "ros_instance = NiryoRos(\"169.254.200.200\") # Replace with your Niryo robot's IP address\n",
    "vision = Vision(ros_instance)  # Initialize the vision system\n",
    "\n",
    "# Function to capture and preprocess the image from the Niryo camera\n",
    "def capture_image():\n",
    "    # Fetch the compressed image from the Niryo camera\n",
    "    img_compressed = vision.get_img_compressed()\n",
    "\n",
    "    # Get the camera calibration details (intrinsics and distortion coefficients)\n",
    "    camera_info = vision.get_camera_intrinsics()\n",
    "\n",
    "    # Uncompress the image to get it ready for processing\n",
    "    img_uncompressed = pyniryo.uncompress_image(img_compressed)\n",
    "\n",
    "    # Correct the image for camera distortion using the intrinsics and distortion coefficients\n",
    "    img = pyniryo.undistort_image(img_uncompressed, camera_info.intrinsics, camera_info.distortion)\n",
    "\n",
    "    return img\n",
    "\n",
    "# Capture and prepare the image\n",
    "image = capture_image()\n",
    "image = cv2.cvtColor(image, cv2.COLOR_BGR2RGB)\n",
    "\n",
    "# Set the image for segmentation\n",
    "predictor.set_image(image)\n",
    "\n",
    "# Define the input points as a dictionary\n",
    "input_points_dict = {\n",
    "    \"p1\": (50, 50),\n",
    "    \"p5\": (150, 150),\n",
    "}\n",
    "\n",
    "# Convert the dictionary values to a NumPy array\n",
    "input_points = np.array(list(input_points_dict.values()))\n",
    "\n",
    "# Define corresponding labels for each point (assuming all are positive samples)\n",
    "input_labels = np.array([1] * len(input_points))  # All points are positive\n",
    "\n",
    "# Perform segmentation with the first mask output\n",
    "masks, scores, logits = predictor.predict(input_points, input_labels, multimask_output=False)\n",
    "\n",
    "\n",
    "# Create a color mask with the same dimensions as the original image\n",
    "color_mask = np.zeros_like(image)\n",
    "\n",
    "# Define colors for the masks (for example, blue and green)\n",
    "colors = [\n",
    "    (0, 255, 0),  # Green for chip 1\n",
    "    (255, 0, 0),  # Blue for chip 2\n",
    "    (0, 0, 255),  # Red for chip 3\n",
    "    # You can define more colors if you have more chips\n",
    "]\n",
    "\n",
    "# If masks are generated, apply colors\n",
    "if len(masks) > 0:\n",
    "    for i, mask in enumerate(masks):\n",
    "        color = colors[i % len(colors)]  # Cycle through the defined colors\n",
    "        color_mask[mask.astype(bool)] = color  # Assign color to the mask area\n",
    "\n",
    "# Overlay the color mask on the original image\n",
    "overlayed_image = cv2.addWeighted(image, 0.5, color_mask, 0.5, 0)\n",
    "\n",
    "# Save the colored mask and overlayed image\n",
    "cv2.imwrite('colored_mask.png', color_mask)  # Save the colored mask\n",
    "cv2.imwrite('overlayed_image.png', overlayed_image)  # Save the overlayed image\n",
    "\n",
    "# Optionally display the images\n",
    "cv2.imshow('Colored Mask', color_mask)\n",
    "cv2.imshow('Overlayed Image', overlayed_image)\n",
    "cv2.waitKey(0)\n",
    "cv2.destroyAllWindows()"
   ]
  },
  {
   "cell_type": "code",
   "execution_count": null,
   "metadata": {},
   "outputs": [],
   "source": []
  },
  {
   "cell_type": "code",
   "execution_count": 2,
   "metadata": {},
   "outputs": [
    {
     "data": {
      "text/plain": [
       "True"
      ]
     },
     "execution_count": 2,
     "metadata": {},
     "output_type": "execute_result"
    }
   ],
   "source": []
  },
  {
   "cell_type": "code",
   "execution_count": null,
   "metadata": {},
   "outputs": [],
   "source": []
  }
 ],
 "metadata": {
  "kernelspec": {
   "display_name": "Python 3",
   "language": "python",
   "name": "python3"
  },
  "language_info": {
   "codemirror_mode": {
    "name": "ipython",
    "version": 3
   },
   "file_extension": ".py",
   "mimetype": "text/x-python",
   "name": "python",
   "nbconvert_exporter": "python",
   "pygments_lexer": "ipython3",
   "version": "3.12.4"
  }
 },
 "nbformat": 4,
 "nbformat_minor": 2
}
