{
 "cells": [
  {
   "cell_type": "code",
   "execution_count": 1,
   "metadata": {},
   "outputs": [
    {
     "ename": "ModuleNotFoundError",
     "evalue": "No module named 'pyniryo2'",
     "output_type": "error",
     "traceback": [
      "\u001b[1;31m---------------------------------------------------------------------------\u001b[0m",
      "\u001b[1;31mModuleNotFoundError\u001b[0m                       Traceback (most recent call last)",
      "Cell \u001b[1;32mIn[1], line 1\u001b[0m\n\u001b[1;32m----> 1\u001b[0m \u001b[38;5;28;01mfrom\u001b[39;00m \u001b[38;5;21;01mpyniryo2\u001b[39;00m \u001b[38;5;28;01mimport\u001b[39;00m \u001b[38;5;241m*\u001b[39m\n\u001b[0;32m      2\u001b[0m \u001b[38;5;28;01mimport\u001b[39;00m \u001b[38;5;21;01mpyniryo\u001b[39;00m\n\u001b[0;32m      3\u001b[0m \u001b[38;5;28;01mfrom\u001b[39;00m \u001b[38;5;21;01mmatplotlib\u001b[39;00m \u001b[38;5;28;01mimport\u001b[39;00m pyplot \u001b[38;5;28;01mas\u001b[39;00m plt\n",
      "\u001b[1;31mModuleNotFoundError\u001b[0m: No module named 'pyniryo2'"
     ]
    }
   ],
   "source": [
    "from pyniryo2 import *\n",
    "import pyniryo\n",
    "from matplotlib import pyplot as plt\n",
    "import cv2 as cv\n",
    "import time\n",
    "\n",
    "# robot_ip_address = \"10.10.10.10\"\n",
    "robot_ip_address = \"10.10.10.10\"\n",
    "\n",
    "# Connect to robot & calibrate\n",
    "robot = NiryoRobot(robot_ip_address)\n",
    "robot.arm.calibrate_auto()\n",
    "from recorded_positions import pickup_coordinates,dropoff_coordinates\n"
   ]
  },
  {
   "cell_type": "code",
   "execution_count": 50,
   "metadata": {},
   "outputs": [
    {
     "name": "stdout",
     "output_type": "stream",
     "text": [
      "My current ToolID ToolID.VACUUM_PUMP_1\n"
     ]
    }
   ],
   "source": [
    "# checks tool ID\n",
    "robot.tool.update_tool()\n",
    "print (\"My current ToolID\", robot.tool.get_current_tool_id())\n",
    "\n",
    "robot.tool.release_with_tool()"
   ]
  },
  {
   "cell_type": "code",
   "execution_count": 52,
   "metadata": {},
   "outputs": [],
   "source": [
    "def get_pickup_coordinates(p):\n",
    "    return pickup_coordinates.get(p,'Invalid_position')\n",
    "def get_dropoff_coordinates(p):\n",
    "    return dropoff_coordinates.get(p,'Invalid_position')"
   ]
  },
  {
   "cell_type": "code",
   "execution_count": 53,
   "metadata": {},
   "outputs": [],
   "source": [
    "def go_up(position_coordinates):\n",
    "    coordinates=[0,0,0.03 ,0,0,0]\n",
    "    result = [a + b for a, b in zip(position_coordinates, coordinates)]\n",
    "    robot.arm.move_pose(result)\n",
    "\n",
    "def go_down(position_coordinates):\n",
    "    coordinates=[0,0,0.03 ,0,0,0]\n",
    "    result = [a + b for a, b in zip(position_coordinates, coordinates)]\n",
    "    robot.arm.move_pose(result)"
   ]
  },
  {
   "cell_type": "code",
   "execution_count": 57,
   "metadata": {},
   "outputs": [
    {
     "name": "stdout",
     "output_type": "stream",
     "text": [
      "[0.124, -0.0015, 0.3252, 2.724, 1.458, 2.661]\n",
      "[0.3055, -0.0502, 0.0528, -2.158, 1.476, -2.191]\n",
      "Moved to position: [0.3055, -0.0502, 0.0528, -2.158, 1.476, -2.191]\n",
      "current coordinates of the robot: x = 0.3052, y = -0.0502, z = 0.0527\n",
      "roll = -2.211, pitch = 1.471, yaw = -2.237 \n",
      "Moved to position: [0.2564, -0.0546, 0.0603, 2.881, 1.427, 2.864]\n",
      "current coordinates of the robot: x = 0.2558, y = -0.0545, z = 0.0603\n",
      "roll = 2.898, pitch = 1.416, yaw = 2.877 \n"
     ]
    }
   ],
   "source": [
    "# move robot to home position\n",
    "home_position=get_pickup_coordinates('h0')\n",
    "robot.arm.move_pose(home_position)\n",
    "print(home_position)\n",
    "\n",
    "# move robot to pick up and drop off position\n",
    "pick_up_position= input(\"what is the pick up position: \")\n",
    "drop_off_position= input(\"what is the drop off position: \")\n",
    "position_coordinates = get_pickup_coordinates(pick_up_position)\n",
    "robot.arm.move_pose(position_coordinates)\n",
    "print(f'Moved to position: {position_coordinates}')\n",
    "\n",
    "pose_read = robot.arm.get_pose()\n",
    "print(f'current coordinates of the robot: {pose_read } ')\n",
    "robot.tool.grasp_with_tool()\n",
    "\n",
    "go_up(position_coordinates)\n",
    "position_coordinates = get_dropoff_coordinates(drop_off_position)\n",
    "go_down(position_coordinates)\n",
    "robot.arm.move_pose(position_coordinates)\n",
    "print(f'Moved to position: {position_coordinates}')\n",
    "pose_read = robot.arm.get_pose()\n",
    "print(f'current coordinates of the robot: {pose_read } ')\n",
    "robot.tool.release_with_tool()\n",
    "\n",
    "# move robot to home position\n",
    "robot.arm.move_pose(home_position)\n",
    "\n"
   ]
  },
  {
   "cell_type": "code",
   "execution_count": 59,
   "metadata": {},
   "outputs": [
    {
     "name": "stdout",
     "output_type": "stream",
     "text": [
      "current coordinates of the robot: x = 0.1243, y = -0.0014, z = 0.3252\n",
      "roll = 2.684, pitch = 1.462, yaw = 2.623 \n"
     ]
    }
   ],
   "source": [
    "pose_read = robot.arm.get_pose()\n",
    "print(f'current coordinates of the robot: {pose_read } ')"
   ]
  }
 ],
 "metadata": {
  "kernelspec": {
   "display_name": "Python 3",
   "language": "python",
   "name": "python3"
  },
  "language_info": {
   "codemirror_mode": {
    "name": "ipython",
    "version": 3
   },
   "file_extension": ".py",
   "mimetype": "text/x-python",
   "name": "python",
   "nbconvert_exporter": "python",
   "pygments_lexer": "ipython3",
   "version": "3.12.4"
  }
 },
 "nbformat": 4,
 "nbformat_minor": 2
}
