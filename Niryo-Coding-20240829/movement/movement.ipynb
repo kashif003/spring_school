{
 "cells": [
  {
   "cell_type": "code",
   "execution_count": 49,
   "metadata": {},
   "outputs": [],
   "source": [
    "from pyniryo2 import *\n",
    "import pyniryo\n",
    "from matplotlib import pyplot as plt\n",
    "import cv2 as cv\n",
    "import time\n",
    "\n",
    "# robot_ip_address = \"10.10.10.10\"\n",
    "robot_ip_address = \"10.10.10.10\"\n",
    "\n",
    "# Connect to robot & calibrate\n",
    "robot = NiryoRobot(robot_ip_address)\n",
    "robot.arm.calibrate_auto()\n",
    "from recorded_positions import pickup_coordinates,dropoff_coordinates\n",
    "\n",
    "\n",
    "\n"
   ]
  },
  {
   "cell_type": "code",
   "execution_count": 50,
   "metadata": {},
   "outputs": [
    {
     "name": "stdout",
     "output_type": "stream",
     "text": [
      "My current ToolID ToolID.VACUUM_PUMP_1\n"
     ]
    }
   ],
   "source": [
    "robot.tool.update_tool()\n",
    "print (\"My current ToolID\", robot.tool.get_current_tool_id())"
   ]
  },
  {
   "cell_type": "code",
   "execution_count": 51,
   "metadata": {},
   "outputs": [],
   "source": [
    "robot.tool.release_with_tool()\n",
    "def get_pickup_coordinates(p):\n",
    "    return pickup_coordinates.get(p,'Invalid_position')"
   ]
  },
  {
   "cell_type": "code",
   "execution_count": 52,
   "metadata": {},
   "outputs": [],
   "source": [
    "def get_dropoff_coordinates(p):\n",
    "    return dropoff_coordinates.get(p,'Invalid_position')"
   ]
  },
  {
   "cell_type": "code",
   "execution_count": 53,
   "metadata": {},
   "outputs": [],
   "source": [
    "def go_up(position_coordinates):\n",
    "    coordinates=[0,0,0.03 ,0,0,0]\n",
    "    result = [a + b for a, b in zip(position_coordinates, coordinates)]\n",
    "    robot.arm.move_pose(result)\n",
    "\n",
    "def go_down(position_coordinates):\n",
    "    coordinates=[0,0,0.03 ,0,0,0]\n",
    "    result = [a + b for a, b in zip(position_coordinates, coordinates)]\n",
    "    robot.arm.move_pose(result)\n",
    "\n",
    "    \n",
    "\n",
    "    "
   ]
  },
  {
   "cell_type": "code",
   "execution_count": 54,
   "metadata": {},
   "outputs": [],
   "source": [
    "def go_home():\n",
    "   print('home')\n",
    "   robot.arm.move_pose([0.2249, 0.0161, 0.3155, -1.947, 1.509, -1.889])"
   ]
  },
  {
   "cell_type": "code",
   "execution_count": 55,
   "metadata": {},
   "outputs": [],
   "source": [
    "#robot.arm.move_pose([0.2249, 0.0161, 0.3155, -1.947, 1.509, -1.889])\n",
    "#x = 0.2249, y = 0.0161, z = 0.3155\n",
    "#roll = -1.947, pitch = 1.509, yaw = -1.889"
   ]
  },
  {
   "cell_type": "code",
   "execution_count": 56,
   "metadata": {},
   "outputs": [
    {
     "name": "stdout",
     "output_type": "stream",
     "text": [
      "[0.124, -0.0015, 0.3252, 2.724, 1.458, 2.661]\n"
     ]
    }
   ],
   "source": [
    "home_position=get_pickup_coordinates('h0')\n",
    "robot.arm.move_pose(home_position)\n",
    "print(home_position)"
   ]
  },
  {
   "cell_type": "code",
   "execution_count": 57,
   "metadata": {},
   "outputs": [
    {
     "name": "stdout",
     "output_type": "stream",
     "text": [
      "[0.124, -0.0015, 0.3252, 2.724, 1.458, 2.661]\n",
      "[0.3055, -0.0502, 0.0528, -2.158, 1.476, -2.191]\n",
      "Moved to position: [0.3055, -0.0502, 0.0528, -2.158, 1.476, -2.191]\n",
      "current coordinates of the robot: x = 0.3052, y = -0.0502, z = 0.0527\n",
      "roll = -2.211, pitch = 1.471, yaw = -2.237 \n",
      "Moved to position: [0.2564, -0.0546, 0.0603, 2.881, 1.427, 2.864]\n",
      "current coordinates of the robot: x = 0.2558, y = -0.0545, z = 0.0603\n",
      "roll = 2.898, pitch = 1.416, yaw = 2.877 \n"
     ]
    }
   ],
   "source": [
    "# pickup position\n",
    "\n",
    "\n",
    "# get the robot to the home_position first\n",
    "home_position=get_pickup_coordinates('h0')\n",
    "robot.arm.move_pose(home_position)\n",
    "print(home_position)\n",
    "pick_up_position= input(\"what is the pick up position: \")\n",
    "drop_off_position= input(\"what is the drop off position: \")\n",
    "position_coordinates = get_pickup_coordinates(pick_up_position)\n",
    "print(position_coordinates)\n",
    "robot.arm.move_pose(position_coordinates)\n",
    "print(f'Moved to position: {position_coordinates}')\n",
    "pose_read = robot.arm.get_pose()\n",
    "print(f'current coordinates of the robot: {pose_read } ')\n",
    "robot.tool.grasp_with_tool()\n",
    "go_up(position_coordinates)\n",
    "\n",
    "position_coordinates = get_dropoff_coordinates(drop_off_position)\n",
    "go_down(position_coordinates)\n",
    "robot.arm.move_pose(position_coordinates)\n",
    "\n",
    "print(f'Moved to position: {position_coordinates}')\n",
    "pose_read = robot.arm.get_pose()\n",
    "print(f'current coordinates of the robot: {pose_read } ')\n",
    "robot.tool.release_with_tool()\n",
    "robot.arm.move_pose(home_position)\n",
    "\n",
    "\n",
    "# home position name is h0.\n",
    "    "
   ]
  },
  {
   "cell_type": "code",
   "execution_count": 58,
   "metadata": {},
   "outputs": [],
   "source": [
    "robot.arm.move_pose(home_position)"
   ]
  },
  {
   "cell_type": "code",
   "execution_count": 59,
   "metadata": {},
   "outputs": [
    {
     "name": "stdout",
     "output_type": "stream",
     "text": [
      "current coordinates of the robot: x = 0.1243, y = -0.0014, z = 0.3252\n",
      "roll = 2.684, pitch = 1.462, yaw = 2.623 \n"
     ]
    }
   ],
   "source": [
    "pose_read = robot.arm.get_pose()\n",
    "print(f'current coordinates of the robot: {pose_read } ')"
   ]
  },
  {
   "cell_type": "code",
   "execution_count": 60,
   "metadata": {},
   "outputs": [
    {
     "ename": "TypeError",
     "evalue": "unsupported operand type(s) for -: 'list' and 'list'",
     "output_type": "error",
     "traceback": [
      "\u001b[0;31m---------------------------------------------------------------------------\u001b[0m",
      "\u001b[0;31mTypeError\u001b[0m                                 Traceback (most recent call last)",
      "\u001b[1;32m/home/vision2/Desktop/spring_school-main/Niryo-Coding-20240829/movement.ipynb Cell 12\u001b[0m line \u001b[0;36m1\n\u001b[0;32m----> <a href='vscode-notebook-cell:/home/vision2/Desktop/spring_school-main/Niryo-Coding-20240829/movement.ipynb#X14sZmlsZQ%3D%3D?line=0'>1</a>\u001b[0m [\u001b[39m1\u001b[39;49m,\u001b[39m2\u001b[39;49m]\u001b[39m-\u001b[39;49m[\u001b[39m0\u001b[39;49m,\u001b[39m1\u001b[39;49m]\n",
      "\u001b[0;31mTypeError\u001b[0m: unsupported operand type(s) for -: 'list' and 'list'"
     ]
    }
   ],
   "source": [
    "[1,2]-[0,1]"
   ]
  },
  {
   "cell_type": "code",
   "execution_count": null,
   "metadata": {},
   "outputs": [],
   "source": [
    "# x = 0.1225, y = -0.0010, z = 0.0571 roll = 2.942, pitch = 1.411, yaw = 3.081 \n",
    "\n",
    "# x = 0.1214, y = -0.0003, z = 0.0796 roll = 2.891, pitch = 1.529, yaw = 3.011\n",
    "\n",
    "0.03 \n"
   ]
  },
  {
   "cell_type": "code",
   "execution_count": null,
   "metadata": {},
   "outputs": [],
   "source": [
    "# Move joints\n",
    "#robot.arm.move_joints([0.0, 0.0, 0.0, 0.0, 0.0, 0.0])\n",
    "# Turn learning mode ON\n",
    "#robot.arm.set_learning_mode(True)\n",
    "#robot.arm.move_joints([0.2, -0.3, 0.1, 0.0, 0.5, -0.8])\n",
    "#robot.arm.move_joints([0.0, 0.0, 0.0, 0.0, 0.0, 0.0])\n",
    "\n"
   ]
  },
  {
   "cell_type": "code",
   "execution_count": null,
   "metadata": {},
   "outputs": [],
   "source": [
    "# Move joints\n",
    "#robot.arm.move_joints([0.0, 0.0, 0.0, 0.0, 0.0, 0.0])\n",
    "# Turn learning mode ON\n",
    "#robot.arm.set_learning_mode(True)\n",
    "#robot.arm.move_joints([0.2, -0.3, 0.1, 0.0, 0.5, -0.8])\n",
    "#robot.arm.move_joints([0.0, 0.0, 0.0, 0.0, 0.0, 0.0])\n"
   ]
  },
  {
   "cell_type": "code",
   "execution_count": null,
   "metadata": {},
   "outputs": [],
   "source": [
    "\n",
    "'''\n",
    "pick_pose = PoseObject(\n",
    "x=0.30, y=0.0, z=0.15,\n",
    "roll=0, pitch=1.57, yaw=0.0\n",
    ")\n",
    "first_place_pose = PoseObject(\n",
    "    x=0.0, y=0.2, z=0.15,\n",
    "    roll=0, pitch=1.57, yaw=0.0\n",
    ")\n",
    "for i in range(2):\n",
    "    robot.arm.move_pose(pick_pose)\n",
    "    new_place_pose = first_place_pose.copy_with_offsets(x_offset=0.05 * i)\n",
    "    robot.arm.move_pose(new_place_pose)\n",
    "\n",
    "#robot.end()\n",
    "# Stop TCP connection\n",
    "robot.end()'''"
   ]
  }
 ],
 "metadata": {
  "kernelspec": {
   "display_name": "Python 3",
   "language": "python",
   "name": "python3"
  },
  "language_info": {
   "codemirror_mode": {
    "name": "ipython",
    "version": 3
   },
   "file_extension": ".py",
   "mimetype": "text/x-python",
   "name": "python",
   "nbconvert_exporter": "python",
   "pygments_lexer": "ipython3",
   "version": "3.10.12"
  }
 },
 "nbformat": 4,
 "nbformat_minor": 2
}
