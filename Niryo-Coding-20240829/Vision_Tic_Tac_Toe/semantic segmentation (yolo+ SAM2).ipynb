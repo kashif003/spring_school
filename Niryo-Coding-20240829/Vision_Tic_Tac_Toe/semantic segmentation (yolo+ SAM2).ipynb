{
 "cells": [
  {
   "cell_type": "code",
   "execution_count": 1,
   "metadata": {},
   "outputs": [
    {
     "name": "stdout",
     "output_type": "stream",
     "text": [
      "Requirement already satisfied: torch in c:\\users\\kashi\\appdata\\local\\programs\\python\\python312\\lib\\site-packages (2.4.1+cu118)\n",
      "Requirement already satisfied: torchvision in c:\\users\\kashi\\appdata\\local\\programs\\python\\python312\\lib\\site-packages (0.19.1)\n",
      "Requirement already satisfied: torchaudio in c:\\users\\kashi\\appdata\\local\\programs\\python\\python312\\lib\\site-packages (2.4.1+cu118)\n",
      "Requirement already satisfied: ultralytics in c:\\users\\kashi\\appdata\\local\\programs\\python\\python312\\lib\\site-packages (8.2.98)\n",
      "Requirement already satisfied: opencv-python in c:\\users\\kashi\\appdata\\local\\programs\\python\\python312\\lib\\site-packages (4.10.0.84)\n",
      "Requirement already satisfied: filelock in c:\\users\\kashi\\appdata\\local\\programs\\python\\python312\\lib\\site-packages (from torch) (3.15.4)\n",
      "Requirement already satisfied: typing-extensions>=4.8.0 in c:\\users\\kashi\\appdata\\local\\programs\\python\\python312\\lib\\site-packages (from torch) (4.12.2)\n",
      "Requirement already satisfied: sympy in c:\\users\\kashi\\appdata\\local\\programs\\python\\python312\\lib\\site-packages (from torch) (1.13.0)\n",
      "Requirement already satisfied: networkx in c:\\users\\kashi\\appdata\\local\\programs\\python\\python312\\lib\\site-packages (from torch) (3.3)\n",
      "Requirement already satisfied: jinja2 in c:\\users\\kashi\\appdata\\local\\programs\\python\\python312\\lib\\site-packages (from torch) (3.1.4)\n",
      "Requirement already satisfied: fsspec in c:\\users\\kashi\\appdata\\local\\programs\\python\\python312\\lib\\site-packages (from torch) (2024.6.1)\n",
      "Requirement already satisfied: setuptools in c:\\users\\kashi\\appdata\\local\\programs\\python\\python312\\lib\\site-packages (from torch) (70.3.0)\n",
      "Requirement already satisfied: numpy in c:\\users\\kashi\\appdata\\local\\programs\\python\\python312\\lib\\site-packages (from torchvision) (1.26.4)\n",
      "Requirement already satisfied: pillow!=8.3.*,>=5.3.0 in c:\\users\\kashi\\appdata\\local\\programs\\python\\python312\\lib\\site-packages (from torchvision) (10.4.0)\n",
      "Requirement already satisfied: matplotlib>=3.3.0 in c:\\users\\kashi\\appdata\\local\\programs\\python\\python312\\lib\\site-packages (from ultralytics) (3.9.1)\n",
      "Requirement already satisfied: pyyaml>=5.3.1 in c:\\users\\kashi\\appdata\\local\\programs\\python\\python312\\lib\\site-packages (from ultralytics) (6.0.1)\n",
      "Requirement already satisfied: requests>=2.23.0 in c:\\users\\kashi\\appdata\\local\\programs\\python\\python312\\lib\\site-packages (from ultralytics) (2.32.3)\n",
      "Requirement already satisfied: scipy>=1.4.1 in c:\\users\\kashi\\appdata\\local\\programs\\python\\python312\\lib\\site-packages (from ultralytics) (1.14.1)\n",
      "Requirement already satisfied: tqdm>=4.64.0 in c:\\users\\kashi\\appdata\\local\\programs\\python\\python312\\lib\\site-packages (from ultralytics) (4.66.4)\n",
      "Requirement already satisfied: psutil in c:\\users\\kashi\\appdata\\local\\programs\\python\\python312\\lib\\site-packages (from ultralytics) (6.0.0)\n",
      "Requirement already satisfied: py-cpuinfo in c:\\users\\kashi\\appdata\\local\\programs\\python\\python312\\lib\\site-packages (from ultralytics) (9.0.0)\n",
      "Requirement already satisfied: pandas>=1.1.4 in c:\\users\\kashi\\appdata\\local\\programs\\python\\python312\\lib\\site-packages (from ultralytics) (2.2.2)\n",
      "Requirement already satisfied: seaborn>=0.11.0 in c:\\users\\kashi\\appdata\\local\\programs\\python\\python312\\lib\\site-packages (from ultralytics) (0.13.2)\n",
      "Requirement already satisfied: ultralytics-thop>=2.0.0 in c:\\users\\kashi\\appdata\\local\\programs\\python\\python312\\lib\\site-packages (from ultralytics) (2.0.6)\n",
      "Requirement already satisfied: contourpy>=1.0.1 in c:\\users\\kashi\\appdata\\local\\programs\\python\\python312\\lib\\site-packages (from matplotlib>=3.3.0->ultralytics) (1.2.1)\n",
      "Requirement already satisfied: cycler>=0.10 in c:\\users\\kashi\\appdata\\local\\programs\\python\\python312\\lib\\site-packages (from matplotlib>=3.3.0->ultralytics) (0.12.1)\n",
      "Requirement already satisfied: fonttools>=4.22.0 in c:\\users\\kashi\\appdata\\local\\programs\\python\\python312\\lib\\site-packages (from matplotlib>=3.3.0->ultralytics) (4.53.1)\n",
      "Requirement already satisfied: kiwisolver>=1.3.1 in c:\\users\\kashi\\appdata\\local\\programs\\python\\python312\\lib\\site-packages (from matplotlib>=3.3.0->ultralytics) (1.4.5)\n",
      "Requirement already satisfied: packaging>=20.0 in c:\\users\\kashi\\appdata\\local\\programs\\python\\python312\\lib\\site-packages (from matplotlib>=3.3.0->ultralytics) (24.1)\n",
      "Requirement already satisfied: pyparsing>=2.3.1 in c:\\users\\kashi\\appdata\\local\\programs\\python\\python312\\lib\\site-packages (from matplotlib>=3.3.0->ultralytics) (3.1.2)\n",
      "Requirement already satisfied: python-dateutil>=2.7 in c:\\users\\kashi\\appdata\\local\\programs\\python\\python312\\lib\\site-packages (from matplotlib>=3.3.0->ultralytics) (2.9.0.post0)\n",
      "Requirement already satisfied: pytz>=2020.1 in c:\\users\\kashi\\appdata\\local\\programs\\python\\python312\\lib\\site-packages (from pandas>=1.1.4->ultralytics) (2024.1)\n",
      "Requirement already satisfied: tzdata>=2022.7 in c:\\users\\kashi\\appdata\\local\\programs\\python\\python312\\lib\\site-packages (from pandas>=1.1.4->ultralytics) (2024.1)\n",
      "Requirement already satisfied: charset-normalizer<4,>=2 in c:\\users\\kashi\\appdata\\local\\programs\\python\\python312\\lib\\site-packages (from requests>=2.23.0->ultralytics) (3.3.2)\n",
      "Requirement already satisfied: idna<4,>=2.5 in c:\\users\\kashi\\appdata\\local\\programs\\python\\python312\\lib\\site-packages (from requests>=2.23.0->ultralytics) (3.7)\n",
      "Requirement already satisfied: urllib3<3,>=1.21.1 in c:\\users\\kashi\\appdata\\local\\programs\\python\\python312\\lib\\site-packages (from requests>=2.23.0->ultralytics) (2.2.2)\n",
      "Requirement already satisfied: certifi>=2017.4.17 in c:\\users\\kashi\\appdata\\local\\programs\\python\\python312\\lib\\site-packages (from requests>=2.23.0->ultralytics) (2024.7.4)\n",
      "Requirement already satisfied: colorama in c:\\users\\kashi\\appdata\\local\\programs\\python\\python312\\lib\\site-packages (from tqdm>=4.64.0->ultralytics) (0.4.6)\n",
      "Requirement already satisfied: MarkupSafe>=2.0 in c:\\users\\kashi\\appdata\\local\\programs\\python\\python312\\lib\\site-packages (from jinja2->torch) (2.1.5)\n",
      "Requirement already satisfied: mpmath<1.4,>=1.1.0 in c:\\users\\kashi\\appdata\\local\\programs\\python\\python312\\lib\\site-packages (from sympy->torch) (1.3.0)\n",
      "Requirement already satisfied: six>=1.5 in c:\\users\\kashi\\appdata\\local\\programs\\python\\python312\\lib\\site-packages (from python-dateutil>=2.7->matplotlib>=3.3.0->ultralytics) (1.16.0)\n"
     ]
    },
    {
     "name": "stderr",
     "output_type": "stream",
     "text": [
      "\n",
      "[notice] A new release of pip is available: 24.1.2 -> 24.2\n",
      "[notice] To update, run: python.exe -m pip install --upgrade pip\n"
     ]
    },
    {
     "name": "stdout",
     "output_type": "stream",
     "text": [
      "Requirement already satisfied: segment-anything in c:\\users\\kashi\\appdata\\local\\programs\\python\\python312\\lib\\site-packages (1.0)\n",
      "Requirement already satisfied: opencv-python in c:\\users\\kashi\\appdata\\local\\programs\\python\\python312\\lib\\site-packages (4.10.0.84)\n",
      "Requirement already satisfied: numpy>=1.21.2 in c:\\users\\kashi\\appdata\\local\\programs\\python\\python312\\lib\\site-packages (from opencv-python) (1.26.4)\n"
     ]
    },
    {
     "name": "stderr",
     "output_type": "stream",
     "text": [
      "\n",
      "[notice] A new release of pip is available: 24.1.2 -> 24.2\n",
      "[notice] To update, run: python.exe -m pip install --upgrade pip\n"
     ]
    }
   ],
   "source": [
    "!pip install torch torchvision torchaudio ultralytics opencv-python\n",
    "!pip install segment-anything opencv-python\n"
   ]
  },
  {
   "cell_type": "code",
   "execution_count": 2,
   "metadata": {},
   "outputs": [],
   "source": [
    "import cv2\n",
    "import torch\n",
    "from ultralytics import YOLO\n",
    "from segment_anything import SamPredictor, sam_model_registry\n",
    "import numpy as np"
   ]
  },
  {
   "cell_type": "code",
   "execution_count": 4,
   "metadata": {},
   "outputs": [
    {
     "name": "stdout",
     "output_type": "stream",
     "text": [
      "Requirement already satisfied: ultralytics in c:\\users\\kashi\\appdata\\local\\programs\\python\\python312\\lib\\site-packages (8.2.98)\n",
      "Requirement already satisfied: numpy<2.0.0,>=1.23.0 in c:\\users\\kashi\\appdata\\local\\programs\\python\\python312\\lib\\site-packages (from ultralytics) (1.26.4)\n",
      "Requirement already satisfied: matplotlib>=3.3.0 in c:\\users\\kashi\\appdata\\local\\programs\\python\\python312\\lib\\site-packages (from ultralytics) (3.9.1)\n",
      "Requirement already satisfied: opencv-python>=4.6.0 in c:\\users\\kashi\\appdata\\local\\programs\\python\\python312\\lib\\site-packages (from ultralytics) (4.10.0.84)\n",
      "Requirement already satisfied: pillow>=7.1.2 in c:\\users\\kashi\\appdata\\local\\programs\\python\\python312\\lib\\site-packages (from ultralytics) (10.4.0)\n",
      "Requirement already satisfied: pyyaml>=5.3.1 in c:\\users\\kashi\\appdata\\local\\programs\\python\\python312\\lib\\site-packages (from ultralytics) (6.0.1)\n",
      "Requirement already satisfied: requests>=2.23.0 in c:\\users\\kashi\\appdata\\local\\programs\\python\\python312\\lib\\site-packages (from ultralytics) (2.32.3)\n",
      "Requirement already satisfied: scipy>=1.4.1 in c:\\users\\kashi\\appdata\\local\\programs\\python\\python312\\lib\\site-packages (from ultralytics) (1.14.1)\n",
      "Requirement already satisfied: torch>=1.8.0 in c:\\users\\kashi\\appdata\\local\\programs\\python\\python312\\lib\\site-packages (from ultralytics) (2.4.1+cu118)\n",
      "Requirement already satisfied: torchvision>=0.9.0 in c:\\users\\kashi\\appdata\\local\\programs\\python\\python312\\lib\\site-packages (from ultralytics) (0.19.1)\n",
      "Requirement already satisfied: tqdm>=4.64.0 in c:\\users\\kashi\\appdata\\local\\programs\\python\\python312\\lib\\site-packages (from ultralytics) (4.66.4)\n",
      "Requirement already satisfied: psutil in c:\\users\\kashi\\appdata\\local\\programs\\python\\python312\\lib\\site-packages (from ultralytics) (6.0.0)\n",
      "Requirement already satisfied: py-cpuinfo in c:\\users\\kashi\\appdata\\local\\programs\\python\\python312\\lib\\site-packages (from ultralytics) (9.0.0)\n",
      "Requirement already satisfied: pandas>=1.1.4 in c:\\users\\kashi\\appdata\\local\\programs\\python\\python312\\lib\\site-packages (from ultralytics) (2.2.2)\n",
      "Requirement already satisfied: seaborn>=0.11.0 in c:\\users\\kashi\\appdata\\local\\programs\\python\\python312\\lib\\site-packages (from ultralytics) (0.13.2)\n",
      "Requirement already satisfied: ultralytics-thop>=2.0.0 in c:\\users\\kashi\\appdata\\local\\programs\\python\\python312\\lib\\site-packages (from ultralytics) (2.0.6)\n",
      "Requirement already satisfied: contourpy>=1.0.1 in c:\\users\\kashi\\appdata\\local\\programs\\python\\python312\\lib\\site-packages (from matplotlib>=3.3.0->ultralytics) (1.2.1)\n",
      "Requirement already satisfied: cycler>=0.10 in c:\\users\\kashi\\appdata\\local\\programs\\python\\python312\\lib\\site-packages (from matplotlib>=3.3.0->ultralytics) (0.12.1)\n",
      "Requirement already satisfied: fonttools>=4.22.0 in c:\\users\\kashi\\appdata\\local\\programs\\python\\python312\\lib\\site-packages (from matplotlib>=3.3.0->ultralytics) (4.53.1)\n",
      "Requirement already satisfied: kiwisolver>=1.3.1 in c:\\users\\kashi\\appdata\\local\\programs\\python\\python312\\lib\\site-packages (from matplotlib>=3.3.0->ultralytics) (1.4.5)\n",
      "Requirement already satisfied: packaging>=20.0 in c:\\users\\kashi\\appdata\\local\\programs\\python\\python312\\lib\\site-packages (from matplotlib>=3.3.0->ultralytics) (24.1)\n",
      "Requirement already satisfied: pyparsing>=2.3.1 in c:\\users\\kashi\\appdata\\local\\programs\\python\\python312\\lib\\site-packages (from matplotlib>=3.3.0->ultralytics) (3.1.2)\n",
      "Requirement already satisfied: python-dateutil>=2.7 in c:\\users\\kashi\\appdata\\local\\programs\\python\\python312\\lib\\site-packages (from matplotlib>=3.3.0->ultralytics) (2.9.0.post0)\n",
      "Requirement already satisfied: pytz>=2020.1 in c:\\users\\kashi\\appdata\\local\\programs\\python\\python312\\lib\\site-packages (from pandas>=1.1.4->ultralytics) (2024.1)\n",
      "Requirement already satisfied: tzdata>=2022.7 in c:\\users\\kashi\\appdata\\local\\programs\\python\\python312\\lib\\site-packages (from pandas>=1.1.4->ultralytics) (2024.1)\n",
      "Requirement already satisfied: charset-normalizer<4,>=2 in c:\\users\\kashi\\appdata\\local\\programs\\python\\python312\\lib\\site-packages (from requests>=2.23.0->ultralytics) (3.3.2)\n",
      "Requirement already satisfied: idna<4,>=2.5 in c:\\users\\kashi\\appdata\\local\\programs\\python\\python312\\lib\\site-packages (from requests>=2.23.0->ultralytics) (3.7)\n",
      "Requirement already satisfied: urllib3<3,>=1.21.1 in c:\\users\\kashi\\appdata\\local\\programs\\python\\python312\\lib\\site-packages (from requests>=2.23.0->ultralytics) (2.2.2)\n",
      "Requirement already satisfied: certifi>=2017.4.17 in c:\\users\\kashi\\appdata\\local\\programs\\python\\python312\\lib\\site-packages (from requests>=2.23.0->ultralytics) (2024.7.4)\n",
      "Requirement already satisfied: filelock in c:\\users\\kashi\\appdata\\local\\programs\\python\\python312\\lib\\site-packages (from torch>=1.8.0->ultralytics) (3.15.4)\n",
      "Requirement already satisfied: typing-extensions>=4.8.0 in c:\\users\\kashi\\appdata\\local\\programs\\python\\python312\\lib\\site-packages (from torch>=1.8.0->ultralytics) (4.12.2)\n",
      "Requirement already satisfied: sympy in c:\\users\\kashi\\appdata\\local\\programs\\python\\python312\\lib\\site-packages (from torch>=1.8.0->ultralytics) (1.13.0)\n",
      "Requirement already satisfied: networkx in c:\\users\\kashi\\appdata\\local\\programs\\python\\python312\\lib\\site-packages (from torch>=1.8.0->ultralytics) (3.3)\n",
      "Requirement already satisfied: jinja2 in c:\\users\\kashi\\appdata\\local\\programs\\python\\python312\\lib\\site-packages (from torch>=1.8.0->ultralytics) (3.1.4)\n",
      "Requirement already satisfied: fsspec in c:\\users\\kashi\\appdata\\local\\programs\\python\\python312\\lib\\site-packages (from torch>=1.8.0->ultralytics) (2024.6.1)\n",
      "Requirement already satisfied: setuptools in c:\\users\\kashi\\appdata\\local\\programs\\python\\python312\\lib\\site-packages (from torch>=1.8.0->ultralytics) (70.3.0)\n",
      "Requirement already satisfied: colorama in c:\\users\\kashi\\appdata\\local\\programs\\python\\python312\\lib\\site-packages (from tqdm>=4.64.0->ultralytics) (0.4.6)\n",
      "Requirement already satisfied: six>=1.5 in c:\\users\\kashi\\appdata\\local\\programs\\python\\python312\\lib\\site-packages (from python-dateutil>=2.7->matplotlib>=3.3.0->ultralytics) (1.16.0)\n",
      "Requirement already satisfied: MarkupSafe>=2.0 in c:\\users\\kashi\\appdata\\local\\programs\\python\\python312\\lib\\site-packages (from jinja2->torch>=1.8.0->ultralytics) (2.1.5)\n",
      "Requirement already satisfied: mpmath<1.4,>=1.1.0 in c:\\users\\kashi\\appdata\\local\\programs\\python\\python312\\lib\\site-packages (from sympy->torch>=1.8.0->ultralytics) (1.3.0)\n"
     ]
    },
    {
     "name": "stderr",
     "output_type": "stream",
     "text": [
      "\n",
      "[notice] A new release of pip is available: 24.1.2 -> 24.2\n",
      "[notice] To update, run: python.exe -m pip install --upgrade pip\n"
     ]
    }
   ],
   "source": [
    "!pip install ultralytics\n"
   ]
  },
  {
   "cell_type": "code",
   "execution_count": 6,
   "metadata": {},
   "outputs": [],
   "source": [
    "from ultralytics import YOLO\n"
   ]
  },
  {
   "cell_type": "code",
   "execution_count": 7,
   "metadata": {},
   "outputs": [
    {
     "name": "stdout",
     "output_type": "stream",
     "text": [
      "Downloading https://github.com/ultralytics/assets/releases/download/v8.2.0/yolov8s-seg.pt to 'yolov8s-seg.pt'...\n"
     ]
    },
    {
     "name": "stderr",
     "output_type": "stream",
     "text": [
      "100%|██████████| 22.8M/22.8M [00:01<00:00, 15.4MB/s]\n"
     ]
    }
   ],
   "source": [
    "yolo_model = YOLO('yolov8s-seg.pt')  # or a custom-trained model path\n",
    "\n",
    "# Load SAM model\n",
    "sam_checkpoint = \"sam_vit_b_01ec64.pth\"  # Replace with your SAM model path\n",
    "sam_model_type = \"vit_b\"  # Could be \"vit_b\", \"vit_l\" based on the model\n",
    "sam = sam_model_registry[sam_model_type](checkpoint=sam_checkpoint)\n",
    "sam_predictor = SamPredictor(sam)"
   ]
  },
  {
   "cell_type": "code",
   "execution_count": 8,
   "metadata": {},
   "outputs": [],
   "source": [
    "# Function to detect shapes using YOLO\n",
    "def detect_shapes(image):\n",
    "    # Run YOLOv5 model inference\n",
    "    results = yolo_model(image)\n",
    "\n",
    "    # Extract bounding boxes from YOLO results\n",
    "    detections = []\n",
    "    for det in results.pred[0]:  # Iterate over detected objects\n",
    "        x1, y1, x2, y2, conf, cls = det\n",
    "        if conf > 0.5:  # Confidence threshold\n",
    "            detections.append((int(x1), int(y1), int(x2), int(y2)))  # Bounding boxes\n",
    "    \n",
    "    return detections"
   ]
  },
  {
   "cell_type": "code",
   "execution_count": 9,
   "metadata": {},
   "outputs": [],
   "source": [
    "# Function to perform SAM segmentation on detected shapes\n",
    "def segment_with_sam(image, boxes):\n",
    "    sam_predictor.set_image(image)\n",
    "    masks = []\n",
    "    \n",
    "    for box in boxes:\n",
    "        x1, y1, x2, y2 = box\n",
    "        cropped_image = image[y1:y2, x1:x2]\n",
    "        \n",
    "        # Predict the mask within the bounding box using SAM\n",
    "        box_np = np.array([x1, y1, x2, y2])  # Convert box to numpy array\n",
    "        masks.append(sam_predictor.predict(box_np))\n",
    "    \n",
    "    return masks"
   ]
  },
  {
   "cell_type": "code",
   "execution_count": 10,
   "metadata": {},
   "outputs": [],
   "source": [
    "# Main Function\n",
    "def main(image_path):\n",
    "    # Read image\n",
    "    image = cv2.imread(image_path)\n",
    "    \n",
    "    # Step 1: Detect shapes using YOLO\n",
    "    boxes = detect_shapes(image)\n",
    "    \n",
    "    # Step 2: Segment detected shapes using SAM\n",
    "    masks = segment_with_sam(image, boxes)\n",
    "    \n",
    "    # Step 3: Visualize results (bounding boxes + masks)\n",
    "    for (x1, y1, x2, y2), mask in zip(boxes, masks):\n",
    "        # Draw bounding box\n",
    "        cv2.rectangle(image, (x1, y1), (x2, y2), (0, 255, 0), 2)\n",
    "        \n",
    "        # Apply the mask to the region of interest\n",
    "        mask_img = np.zeros_like(image)\n",
    "        mask_img[y1:y2, x1:x2] = mask['masks'][0]  # Assuming SAM mask output is binary\n",
    "\n",
    "        # Overlay the mask on the original image\n",
    "        image = cv2.addWeighted(image, 1, mask_img, 0.6, 0)\n",
    "    \n",
    "    # Show the result\n",
    "    cv2.imshow(\"Detection and Segmentation\", image)\n",
    "    cv2.waitKey(0)\n",
    "    cv2.destroyAllWindows()"
   ]
  },
  {
   "cell_type": "code",
   "execution_count": null,
   "metadata": {},
   "outputs": [],
   "source": [
    "if __name__ == \"__main__\":\n",
    "    main(\"your_image_path.jpg\")  # Replace with your image path"
   ]
  },
  {
   "cell_type": "code",
   "execution_count": null,
   "metadata": {},
   "outputs": [],
   "source": [
    "# Import required libraries for both camera streaming and segmentation\n",
    "from pyniryo2 import *  # For controlling Niryo robot and accessing camera\n",
    "import pyniryo  # Additional functionalities from pyniryo2\n",
    "import cv2 as cv  # For image display and manipulation\n",
    "import torch  # For running the SAM model on GPU/CPU\n",
    "import numpy as np  # For handling arrays and masks\n",
    "from segment_anything import SamPredictor, sam_model_registry  # SAM model utilities for segmentation\n",
    "import time  # For timing and frame rate adjustments\n",
    "\n",
    "# Set up the ROS instance for the Niryo robot, assuming the IP address is \"10.10.10.10\"\n",
    "ros_instance = NiryoRos(\"10.10.10.10\")\n",
    "\n",
    "# Initialize the vision system for the Niryo robot's camera\n",
    "vision = Vision(ros_instance)\n",
    "\n",
    "# Initialize the SAM model (using the small version)\n",
    "device = torch.device(\"cuda\" if torch.cuda.is_available() else \"cpu\")  # Use GPU if available, otherwise use CPU\n",
    "sam_checkpoint = \"sam_vit_b_01ec64.pth\"  # Path to the pre-trained SAM model checkpoint (small version)\n",
    "model_type = \"vit_b\"  # Using the small version of the SAM model (vit_b)\n",
    "\n",
    "# Load the SAM model using the specified checkpoint and model type\n",
    "sam = sam_model_registry[model_type](checkpoint=sam_checkpoint)\n",
    "sam.to(device)  # Move the SAM model to the specified device (GPU/CPU)\n",
    "predictor = SamPredictor(sam)  # Initialize the SAM predictor object\n",
    "\n",
    "# Define a function to detect circular objects using color thresholding\n",
    "def detect_circles_by_color(image):\n",
    "    \"\"\"Detect circular objects using color thresholding and contour analysis.\"\"\"\n",
    "    # Convert the image to HSV color space for better color segmentation\n",
    "    hsv = cv.cvtColor(image, cv.COLOR_BGR2HSV)\n",
    "\n",
    "    # Define the color range for detecting circles (for example, detecting red circles)\n",
    "    lower_color = np.array([0, 100, 100])  # Lower bound of the color (e.g., red)\n",
    "    upper_color = np.array([10, 255, 255])  # Upper bound of the color (e.g., red)\n",
    "\n",
    "    # Create a binary mask based on the defined color range\n",
    "    mask = cv.inRange(hsv, lower_color, upper_color)\n",
    "\n",
    "    # Use morphological operations to reduce noise\n",
    "    kernel = cv.getStructuringElement(cv.MORPH_ELLIPSE, (5, 5))\n",
    "    mask = cv.morphologyEx(mask, cv.MORPH_CLOSE, kernel)  # Close small holes\n",
    "    mask = cv.morphologyEx(mask, cv.MORPH_OPEN, kernel)   # Remove small noise\n",
    "\n",
    "    # Find contours in the binary mask\n",
    "    contours, _ = cv.findContours(mask, cv.RETR_EXTERNAL, cv.CHAIN_APPROX_SIMPLE)\n",
    "\n",
    "    circles = []\n",
    "    for contour in contours:\n",
    "        # Approximate the contour and check if it is circular\n",
    "        perimeter = cv.arcLength(contour, True)\n",
    "        approx = cv.approxPolyDP(contour, 0.02 * perimeter, True)\n",
    "\n",
    "        if len(approx) >= 5:  # If the shape has enough vertices, consider it a circle\n",
    "            (x, y), radius = cv.minEnclosingCircle(contour)\n",
    "            circles.append((int(x), int(y), int(radius)))\n",
    "\n",
    "    return circles\n",
    "\n",
    "# Main Function to capture images and run detection & segmentation every 3 seconds\n",
    "def capture_and_process():\n",
    "    while True:\n",
    "        # Step 1: Fetch the compressed image from the Niryo camera\n",
    "        img_compressed = vision.get_img_compressed()\n",
    "\n",
    "        # Step 2: Get the camera calibration details (intrinsics and distortion coefficients)\n",
    "        camera_info = vision.get_camera_intrinsics()\n",
    "\n",
    "        # Step 3: Uncompress the image to get it ready for processing\n",
    "        img_uncompressed = pyniryo.uncompress_image(img_compressed)\n",
    "\n",
    "        # Step 4: Correct the image for camera distortion using the intrinsics and distortion coefficients\n",
    "        img = pyniryo.undistort_image(img_uncompressed, camera_info.intrinsics, camera_info.distortion)\n",
    "\n",
    "        # Step 5: Resize the frame for processing (optional)\n",
    "        resized_frame = cv.resize(img, (640, 480))\n",
    "\n",
    "        # Step 6: Detect circles in the resized frame using color thresholding\n",
    "        circles = detect_circles_by_color(resized_frame)\n",
    "\n",
    "        # Step 7: Prepare to store masks for segmented circles\n",
    "        if circles:\n",
    "            for circle in circles:\n",
    "                x, y, r = circle  # Get the circle's center (x, y) and radius (r)\n",
    "\n",
    "                # Create a mask for the detected circle\n",
    "                circle_mask = np.zeros((resized_frame.shape[0], resized_frame.shape[1]), dtype=np.uint8)  # Create a black mask\n",
    "                cv.circle(circle_mask, (x, y), r, 255, thickness=-1)  # Fill the circle region with white (255)\n",
    "\n",
    "                # Convert the resized frame to RGB format for SAM\n",
    "                resized_frame_rgb = cv.cvtColor(resized_frame, cv.COLOR_BGR2RGB)\n",
    "\n",
    "                # Set the image for segmentation using SAM\n",
    "                predictor.set_image(resized_frame_rgb)\n",
    "\n",
    "                # Perform semantic segmentation on the entire frame\n",
    "                masks, scores, _ = predictor.predict(point_coords=None, point_labels=None)\n",
    "\n",
    "                # Use the best mask (highest score)\n",
    "                best_mask_index = np.argmax(scores)\n",
    "                best_mask = masks[best_mask_index].astype(np.uint8) * 255  # Convert the SAM mask to a binary mask (0 or 255)\n",
    "\n",
    "                # Combine the circle mask and the segmentation mask\n",
    "                combined_mask = cv.bitwise_and(best_mask, circle_mask)\n",
    "\n",
    "                # Draw the contours of the combined mask on the original image\n",
    "                contours, _ = cv.findContours(combined_mask, cv.RETR_EXTERNAL, cv.CHAIN_APPROX_SIMPLE)\n",
    "                for contour in contours:\n",
    "                    cv.drawContours(resized_frame, [contour], -1, (0, 255, 0), 2)  # Draw contours in green\n",
    "\n",
    "        # Display the results\n",
    "        cv.imshow(\"Segmented Circles\", resized_frame)\n",
    "\n",
    "        # Wait for 3 seconds before capturing the next frame\n",
    "        if cv.waitKey(3000) & 0xFF == ord('q'):  # Press 'q' to quit\n",
    "            break\n",
    "\n",
    "# Run the main function to capture and process frames\n",
    "if __name__ == \"__main__\":\n",
    "    capture_and_process()\n",
    "\n",
    "# Cleanup resources\n",
    "cv.destroyAllWindows()\n"
   ]
  }
 ],
 "metadata": {
  "kernelspec": {
   "display_name": "Python 3",
   "language": "python",
   "name": "python3"
  },
  "language_info": {
   "codemirror_mode": {
    "name": "ipython",
    "version": 3
   },
   "file_extension": ".py",
   "mimetype": "text/x-python",
   "name": "python",
   "nbconvert_exporter": "python",
   "pygments_lexer": "ipython3",
   "version": "3.12.4"
  }
 },
 "nbformat": 4,
 "nbformat_minor": 2
}
