{
 "cells": [
  {
   "metadata": {},
   "cell_type": "code",
   "outputs": [],
   "execution_count": null,
   "source": [
    "from pyniryo2 import *\n",
    "import pyniryo\n",
    "from matplotlib import pyplot as plt\n",
    "import cv2 as cv\n",
    "import time\n",
    "\n",
    "# robot_ip_address = \"10.10.10.10\"\n",
    "robot_ip_address = \"169.254.200.200\"\n",
    "\n",
    "# Connect to robot & calibrate\n",
    "robot = NiryoRobot(robot_ip_address)\n",
    "robot.arm.calibrate_auto()\n"
   ]
  },
  {
   "metadata": {},
   "cell_type": "code",
   "outputs": [],
   "execution_count": null,
   "source": [
    "# for extracting current position of the robot\n",
    "pose_read = robot.arm.get_pose()\n",
    "print(\"my current pose:\", pose_read)"
   ]
  },
  {
   "metadata": {},
   "cell_type": "code",
   "outputs": [],
   "execution_count": null,
   "source": [
    "# positioning (can be edited)\n",
    "p_home=[0.2, -0.1, 0.25, 0.0, 1.57, 0.0]\n",
    "\n",
    "p1=[0,0,0,0,0,0]\n",
    "p2=[0,0,0,0,0,0]\n",
    "p3=[0,0,0,0,0,0]\n",
    "p4=[0,0,0,0,0,0]\n",
    "p5=[0,0,0,0,0,0]\n",
    "p6=[0,0,0,0,0,0]\n",
    "p7=[0,0,0,0,0,0]\n",
    "p8=[0,0,0,0,0,0]\n",
    "p9=[0,0,0,0,0,0]\n",
    "\n",
    "c1=[0,0,0,0,0,0]\n",
    "c2=[0,0,0,0,0,0]\n",
    "c3=[0,0,0,0,0,0]\n",
    "c4=[0,0,0,0,0,0]\n",
    "c5=[0,0,0,0,0,0]\n",
    "c6=[0,0,0,0,0,0]\n",
    "c7=[0,0,0,0,0,0]\n",
    "c8=[0,0,0,0,0,0]\n",
    "c9=[0,0,0,0,0,0]\n",
    "c10=[0,0,0,0,0,0]\n",
    "\n",
    "I1=[0,0,0,0,0,0]\n",
    "I2=[0,0,0,0,0,0]"
   ]
  },
  {
   "cell_type": "code",
   "execution_count": 1,
   "metadata": {},
   "outputs": [
    {
     "name": "stdout",
     "output_type": "stream",
     "text": [
      "my current pose: x = 0.0499, y = 0.2000, z = 0.1499\n",
      "roll = -1.228, pitch = 1.568, yaw = -1.228\n",
      "My current ToolID ToolID.GRIPPER_1\n",
      "moved to pose: x = 0.2004, y = -0.1001, z = 0.2500\n",
      "roll = -0.453, pitch = 1.564, yaw = -0.451\n",
      "moved to pose: x = 0.2003, y = 0.1001, z = 0.2500\n",
      "roll = 0.479, pitch = 1.566, yaw = 0.479\n",
      "my final pose: x = 0.2003, y = 0.1001, z = 0.2500\n",
      "roll = 0.479, pitch = 1.566, yaw = 0.479\n"
     ]
    }
   ],
   "source": [
    "\n",
    "\n",
    "# Move joints\n",
    "#robot.arm.move_joints([0.0, 0.0, 0.0, 0.0, 0.0, 0.0])\n",
    "# Turn learning mode ON\n",
    "#robot.arm.set_learning_mode(True)\n",
    "#robot.arm.move_joints([0.2, -0.3, 0.1, 0.0, 0.5, -0.8])\n",
    "#robot.arm.move_joints([0.0, 0.0, 0.0, 0.0, 0.0, 0.0])\n",
    "robot.tool.update_tool()\n",
    "print (\"My current ToolID\", robot.tool.get_current_tool_id())\n",
    "\n",
    "\n",
    "\n",
    "\n",
    "\n",
    "robot.tool.release_with_tool()\n",
    "robot.arm.move_pose([0.2, -0.1, 0.25, 0.0, 1.57, 0.0])\n",
    "robot.tool.grasp_with_tool()\n",
    "\n",
    "pose_read = robot.arm.get_pose()\n",
    "print(\"moved to pose:\", pose_read)\n",
    "\n",
    "robot.arm.move_pose([0.2, 0.1, 0.25, 0.0, 1.57, 0.0])\n",
    "robot.tool.release_with_tool()\n",
    "\n",
    "\n",
    "pose_read = robot.arm.get_pose()\n",
    "print(\"moved to pose:\", pose_read)\n",
    "\n",
    "\n",
    "pose_read = robot.arm.get_pose()\n",
    "print(\"my final pose:\", pose_read)\n",
    "\n",
    "pick_pose = PoseObject(\n",
    "x=0.30, y=0.0, z=0.15,\n",
    "roll=0, pitch=1.57, yaw=0.0\n",
    ")\n",
    "first_place_pose = PoseObject(\n",
    "    x=0.0, y=0.2, z=0.15,\n",
    "    roll=0, pitch=1.57, yaw=0.0\n",
    ")\n",
    "for i in range(2):\n",
    "    robot.arm.move_pose(pick_pose)\n",
    "    new_place_pose = first_place_pose.copy_with_offsets(x_offset=0.05 * i)\n",
    "    robot.arm.move_pose(new_place_pose)\n",
    "\n",
    "#robot.end()\n",
    "# Stop TCP connection\n",
    "robot.end()"
   ]
  }
 ],
 "metadata": {
  "kernelspec": {
   "display_name": "Python 3",
   "language": "python",
   "name": "python3"
  },
  "language_info": {
   "codemirror_mode": {
    "name": "ipython",
    "version": 3
   },
   "file_extension": ".py",
   "mimetype": "text/x-python",
   "name": "python",
   "nbconvert_exporter": "python",
   "pygments_lexer": "ipython3",
   "version": "3.10.12"
  }
 },
 "nbformat": 4,
 "nbformat_minor": 2
}
