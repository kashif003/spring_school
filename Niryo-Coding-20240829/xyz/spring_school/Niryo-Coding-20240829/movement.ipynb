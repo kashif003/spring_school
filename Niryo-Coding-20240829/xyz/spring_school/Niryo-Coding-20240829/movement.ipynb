{
 "cells": [
  {
   "cell_type": "code",
   "execution_count": 23,
   "metadata": {},
   "outputs": [
    {
     "ename": "ModuleNotFoundError",
     "evalue": "No module named 'recorded_positions'",
     "output_type": "error",
     "traceback": [
      "\u001b[0;31m---------------------------------------------------------------------------\u001b[0m",
      "\u001b[0;31mModuleNotFoundError\u001b[0m                       Traceback (most recent call last)",
      "Cell \u001b[0;32mIn[23], line 14\u001b[0m\n\u001b[1;32m     12\u001b[0m robot\u001b[38;5;241m.\u001b[39marm\u001b[38;5;241m.\u001b[39mcalibrate_auto()\n\u001b[1;32m     13\u001b[0m \u001b[38;5;66;03m#from recorded_positions import pickup_coordinates,dropoff_coordinates\u001b[39;00m\n\u001b[0;32m---> 14\u001b[0m \u001b[38;5;28;01mfrom\u001b[39;00m \u001b[38;5;21;01mrecorded_positions\u001b[39;00m \u001b[38;5;28;01mimport\u001b[39;00m pickup_coordinates, dropoff_coordinates\n",
      "\u001b[0;31mModuleNotFoundError\u001b[0m: No module named 'recorded_positions'"
     ]
    }
   ],
   "source": [
    "from pyniryo2 import *\n",
    "import pyniryo\n",
    "from matplotlib import pyplot as plt\n",
    "import cv2 as cv\n",
    "import time\n",
    "\n",
    "# robot_ip_address = \"10.10.10.10\"\n",
    "robot_ip_address = \"169.254.200.200\"\n",
    "\n",
    "# Connect to robot & calibrate\n",
    "robot = NiryoRobot(robot_ip_address)\n",
    "robot.arm.calibrate_auto()\n",
    "#from recorded_positions import pickup_coordinates,dropoff_coordinates\n",
    "from recorded_positions import pickup_coordinates, dropoff_coordinates\n",
    "\n"
   ]
  },
  {
   "cell_type": "code",
   "execution_count": 3,
   "metadata": {},
   "outputs": [
    {
     "name": "stdout",
     "output_type": "stream",
     "text": [
      "My current ToolID ToolID.VACUUM_PUMP_1\n"
     ]
    }
   ],
   "source": [
    "# checks tool ID\n",
    "robot.tool.update_tool()\n",
    "print (\"My current ToolID\", robot.tool.get_current_tool_id())\n",
    "\n",
    "robot.tool.release_with_tool()"
   ]
  },
  {
   "cell_type": "code",
   "execution_count": 20,
   "metadata": {},
   "outputs": [],
   "source": [
    "def get_pickup_coordinates(p):\n",
    "    return pickup_coordinates.get(p,'Invalid_position')\n",
    "def get_dropoff_coordinates(p):\n",
    "    return dropoff_coordinates.get(p,'Invalid_position')"
   ]
  },
  {
   "cell_type": "code",
   "execution_count": 16,
   "metadata": {},
   "outputs": [],
   "source": [
    "def go_up(position_coordinates):\n",
    "    coordinates=[0,0,0.03 ,0,0,0]\n",
    "    result = [a + b for a, b in zip(position_coordinates, coordinates)]\n",
    "    robot.arm.move_pose(result)\n",
    "\n",
    "def go_down(position_coordinates):\n",
    "    coordinates=[0,0,0.03 ,0,0,0]\n",
    "    result = [a + b for a, b in zip(position_coordinates, coordinates)]\n",
    "    robot.arm.move_pose(result)"
   ]
  },
  {
   "cell_type": "code",
   "execution_count": 21,
   "metadata": {},
   "outputs": [
    {
     "ename": "NameError",
     "evalue": "name 'pickup_coordinates' is not defined",
     "output_type": "error",
     "traceback": [
      "\u001b[0;31m---------------------------------------------------------------------------\u001b[0m",
      "\u001b[0;31mNameError\u001b[0m                                 Traceback (most recent call last)",
      "Cell \u001b[0;32mIn[21], line 2\u001b[0m\n\u001b[1;32m      1\u001b[0m \u001b[38;5;66;03m# move robot to home position\u001b[39;00m\n\u001b[0;32m----> 2\u001b[0m home_position\u001b[38;5;241m=\u001b[39m\u001b[43mget_pickup_coordinates\u001b[49m\u001b[43m(\u001b[49m\u001b[38;5;124;43m'\u001b[39;49m\u001b[38;5;124;43mh0\u001b[39;49m\u001b[38;5;124;43m'\u001b[39;49m\u001b[43m)\u001b[49m\n\u001b[1;32m      3\u001b[0m robot\u001b[38;5;241m.\u001b[39marm\u001b[38;5;241m.\u001b[39mmove_pose(home_position)\n\u001b[1;32m      4\u001b[0m \u001b[38;5;28mprint\u001b[39m(home_position)\n",
      "Cell \u001b[0;32mIn[20], line 2\u001b[0m, in \u001b[0;36mget_pickup_coordinates\u001b[0;34m(p)\u001b[0m\n\u001b[1;32m      1\u001b[0m \u001b[38;5;28;01mdef\u001b[39;00m \u001b[38;5;21mget_pickup_coordinates\u001b[39m(p):\n\u001b[0;32m----> 2\u001b[0m     \u001b[38;5;28;01mreturn\u001b[39;00m \u001b[43mpickup_coordinates\u001b[49m\u001b[38;5;241m.\u001b[39mget(p,\u001b[38;5;124m'\u001b[39m\u001b[38;5;124mInvalid_position\u001b[39m\u001b[38;5;124m'\u001b[39m)\n",
      "\u001b[0;31mNameError\u001b[0m: name 'pickup_coordinates' is not defined"
     ]
    }
   ],
   "source": [
    "# move robot to home position\n",
    "home_position=get_pickup_coordinates('h0')\n",
    "robot.arm.move_pose(home_position)\n",
    "print(home_position)\n",
    "\n",
    "# move robot to pick up and drop off position\n",
    "pick_up_position= input(\"what is the pick up position: \")\n",
    "drop_off_position= input(\"what is the drop off position: \")\n",
    "position_coordinates = get_pickup_coordinates(pick_up_position)\n",
    "robot.arm.move_pose(position_coordinates)\n",
    "print(f'Moved to position: {position_coordinates}')\n",
    "\n",
    "pose_read = robot.arm.get_pose()\n",
    "print(f'current coordinates of the robot: {pose_read } ')\n",
    "robot.tool.grasp_with_tool()\n",
    "\n",
    "go_up(position_coordinates)\n",
    "position_coordinates = get_dropoff_coordinates(drop_off_position)\n",
    "go_down(position_coordinates)\n",
    "robot.arm.move_pose(position_coordinates)\n",
    "print(f'Moved to position: {position_coordinates}')\n",
    "pose_read = robot.arm.get_pose()\n",
    "print(f'current coordinates of the robot: {pose_read } ')\n",
    "robot.tool.release_with_tool()\n",
    "\n",
    "# move robot to home position\n",
    "robot.arm.move_pose(home_position)\n",
    "\n"
   ]
  },
  {
   "cell_type": "code",
   "execution_count": 11,
   "metadata": {},
   "outputs": [
    {
     "name": "stdout",
     "output_type": "stream",
     "text": [
      "current coordinates of the robot: x = 0.3034, y = -0.1062, z = 0.0690\n",
      "roll = -2.886, pitch = 1.400, yaw = 3.025 \n"
     ]
    }
   ],
   "source": [
    "pose_read = robot.arm.get_pose()\n",
    "print(f'current coordinates of the robot: {pose_read } ')"
   ]
  }
 ],
 "metadata": {
  "kernelspec": {
   "display_name": "Python 3",
   "language": "python",
   "name": "python3"
  },
  "language_info": {
   "codemirror_mode": {
    "name": "ipython",
    "version": 3
   },
   "file_extension": ".py",
   "mimetype": "text/x-python",
   "name": "python",
   "nbconvert_exporter": "python",
   "pygments_lexer": "ipython3",
   "version": "3.10.12"
  }
 },
 "nbformat": 4,
 "nbformat_minor": 2
}
