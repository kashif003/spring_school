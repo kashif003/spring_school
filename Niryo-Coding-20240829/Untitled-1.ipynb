{
 "cells": [
  {
   "cell_type": "code",
   "execution_count": 5,
   "metadata": {},
   "outputs": [
    {
     "name": "stderr",
     "output_type": "stream",
     "text": [
      "fatal: destination path 'segment-anything-2' already exists and is not an empty directory.\n"
     ]
    }
   ],
   "source": [
    "!git clone https://github.com/facebookresearch/segment-anything-2.git"
   ]
  },
  {
   "cell_type": "code",
   "execution_count": 8,
   "metadata": {},
   "outputs": [],
   "source": [
    "import cv2\n",
    "import torch\n",
    "import numpy as np\n",
    "from segment_anything import SamPredictor, sam_model_registry"
   ]
  },
  {
   "cell_type": "code",
   "execution_count": 12,
   "metadata": {},
   "outputs": [],
   "source": [
    "device = torch.device(\"cuda\" if torch.cuda.is_available() else \"cpu\")\n",
    "sam_checkpoint = \"sam_vit_b_01ec64.pth\"  # Provide the path to the small SAM model checkpoint\n",
    "model_type = \"vit_b\"  # Use \"vit_b\" for the small version\n",
    "\n",
    "sam = sam_model_registry[model_type](checkpoint=sam_checkpoint)\n",
    "sam.to(device)\n",
    "predictor = SamPredictor(sam)\n",
    "\n",
    "# Open webcam\n",
    "cap = cv2.VideoCapture(0)"
   ]
  },
  {
   "cell_type": "code",
   "execution_count": 13,
   "metadata": {},
   "outputs": [
    {
     "name": "stdout",
     "output_type": "stream",
     "text": [
      "Detected HSV Color: (77.27839667977283, 57.01277850589777, 64.93042813455658, 0.0)\n",
      "Detected HSV Color: (42.93906588308073, 8.456387256418187, 169.53263223012684, 0.0)\n",
      "Detected HSV Color: (39.94195568400771, 8.56791907514451, 170.743978805395, 0.0)\n",
      "Detected HSV Color: (66.58704008786381, 6.285557386051621, 172.2720117151748, 0.0)\n",
      "Detected HSV Color: (0.0, 0.0, 0.0, 0.0)\n",
      "Detected HSV Color: (0.0, 0.0, 0.0, 0.0)\n"
     ]
    }
   ],
   "source": [
    "def detect_color(mask, image):\n",
    "    \"\"\"Detect the average color of the masked region\"\"\"\n",
    "    # Create a mask of the region\n",
    "    masked_image = cv2.bitwise_and(image, image, mask=mask)\n",
    "    \n",
    "    # Convert to HSV color space for better color detection\n",
    "    hsv = cv2.cvtColor(masked_image, cv2.COLOR_BGR2HSV)\n",
    "\n",
    "    # Calculate the average color in the masked area\n",
    "    mean_color = cv2.mean(hsv, mask=mask)\n",
    "    return mean_color\n",
    "\n",
    "while True:\n",
    "    ret, frame = cap.read()\n",
    "    if not ret:\n",
    "        break\n",
    "\n",
    "    # Resize the frame for faster processing\n",
    "    resized_frame = cv2.resize(frame, (256, 256))\n",
    "    resized_frame_rgb = cv2.cvtColor(resized_frame, cv2.COLOR_BGR2RGB)\n",
    "\n",
    "    # Use SAM to predict the mask for the frame\n",
    "    predictor.set_image(resized_frame_rgb)\n",
    "    masks, scores, logits = predictor.predict(point_coords=None, point_labels=None, multimask_output=True)\n",
    "\n",
    "    # Loop over the masks (choose the highest score mask for simplicity)\n",
    "    best_mask_index = np.argmax(scores)\n",
    "    best_mask = masks[best_mask_index].astype(np.uint8) * 255\n",
    "\n",
    "    # Detect the color of the segmented object\n",
    "    mean_color = detect_color(best_mask, resized_frame)\n",
    "\n",
    "    # Display the results\n",
    "    cv2.imshow(\"Original Frame\", frame)\n",
    "    cv2.imshow(\"Segmented Mask\", best_mask)\n",
    "\n",
    "    # Display color in HSV format\n",
    "    print(f\"Detected HSV Color: {mean_color}\")\n",
    "\n",
    "    # Press 'q' to quit\n",
    "    if cv2.waitKey(1) & 0xFF == ord('q'):\n",
    "        break\n",
    "\n",
    "cap.release()\n",
    "cv2.destroyAllWindows()"
   ]
  }
 ],
 "metadata": {
  "kernelspec": {
   "display_name": "Python 3",
   "language": "python",
   "name": "python3"
  },
  "language_info": {
   "codemirror_mode": {
    "name": "ipython",
    "version": 3
   },
   "file_extension": ".py",
   "mimetype": "text/x-python",
   "name": "python",
   "nbconvert_exporter": "python",
   "pygments_lexer": "ipython3",
   "version": "3.12.4"
  }
 },
 "nbformat": 4,
 "nbformat_minor": 2
}
