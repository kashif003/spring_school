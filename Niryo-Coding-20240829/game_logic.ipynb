{
 "cells": [
  {
   "cell_type": "code",
   "execution_count": 24,
   "id": "d530cbb3",
   "metadata": {
    "ExecuteTime": {
     "end_time": "2024-10-12T09:15:50.771640Z",
     "start_time": "2024-10-12T09:15:50.752410Z"
    }
   },
   "outputs": [],
   "source": [
    "import random\n",
    "\n",
    "# Class representing the Tic-Tac-Toe game\n",
    "class TicTacToe:\n",
    "    def __init__(self):\n",
    "        # Initialize the board with 9 empty spaces (3x3 grid)\n",
    "        self.board = [\" \" for _ in range(9)]\n",
    "\n",
    "    # Check if a player has won by verifying all possible winning combinations\n",
    "    def is_winner(self, player):\n",
    "        win_conditions = [\n",
    "            (0, 1, 2),  # top row\n",
    "            (3, 4, 5),  # middle row\n",
    "            (6, 7, 8),  # bottom row\n",
    "            (0, 3, 6),  # left column\n",
    "            (1, 4, 7),  # middle column\n",
    "            (2, 5, 8),  # right column\n",
    "            (0, 4, 8),  # diagonal top-left to bottom-right\n",
    "            (2, 4, 6)   # diagonal top-right to bottom-left\n",
    "        ]\n",
    "        # Check if the player's symbols match any of the win conditions\n",
    "        for condition in win_conditions:\n",
    "            if all(self.board[i] == player for i in condition):\n",
    "                return True\n",
    "        return False\n",
    "\n",
    "    # Return a list of available positions on the board (i.e., empty spaces)\n",
    "    def available_moves(self):\n",
    "        return [i for i in range(9) if self.board[i] == \" \"]\n",
    "\n",
    "    # Make a move at a given position if it's available; returns True if successful\n",
    "    def make_move(self, position, player):\n",
    "        if self.board[position] == \" \":\n",
    "            self.board[position] = player  # Place player's mark on the board\n",
    "            return True\n",
    "        return False  # Move invalid if the position is already taken"
   ]
  },
  {
   "cell_type": "code",
   "execution_count": 25,
   "id": "0fc8af4c",
   "metadata": {
    "ExecuteTime": {
     "end_time": "2024-10-12T09:15:50.799646Z",
     "start_time": "2024-10-12T09:15:50.784145Z"
    }
   },
   "outputs": [],
   "source": [
    "\n",
    "# Class representing the agent that plays using the Minimax algorithm\n",
    "class MinimaxAgent:\n",
    "    def __init__(self, game):\n",
    "        self.game = game  # Reference to the game board\n",
    "\n",
    "    # Minimax algorithm to evaluate the best possible move\n",
    "    def minimax(self, board, depth, is_maximizing):\n",
    "        # Base cases for the recursion: check if the game is over\n",
    "        if self.game.is_winner(\"X\"):\n",
    "            return -1  # X wins, return negative score\n",
    "        elif self.game.is_winner(\"O\"):\n",
    "            return 1  # O wins, return positive score\n",
    "        elif len(self.game.available_moves()) == 0:\n",
    "            return 0  # Tie, return neutral score\n",
    "\n",
    "        # Maximizing player's turn (O)\n",
    "        if is_maximizing:\n",
    "            best_score = -float('inf')  # Initialize to the lowest possible score\n",
    "            for move in self.game.available_moves():\n",
    "                board[move] = \"O\"  # Simulate O making a move\n",
    "                score = self.minimax(board, depth + 1, False)  # Recursive call\n",
    "                board[move] = \" \"  # Undo the move\n",
    "                best_score = max(score, best_score)  # Update the best score\n",
    "            return best_score\n",
    "        # Minimizing player's turn (X)\n",
    "        else:\n",
    "            best_score = float('inf')  # Initialize to the highest possible score\n",
    "            for move in self.game.available_moves():\n",
    "                board[move] = \"X\"  # Simulate X making a move\n",
    "                score = self.minimax(board, depth + 1, True)  # Recursive call\n",
    "                board[move] = \" \"  # Undo the move\n",
    "                best_score = min(score, best_score)  # Update the best score\n",
    "            return best_score\n",
    "\n",
    "    # Get the best move based on the Minimax algorithm\n",
    "    def get_move(self):\n",
    "        best_move = None\n",
    "        best_score = -float('inf')  # Start with the lowest score\n",
    "        # Iterate over all available moves to find the best one\n",
    "        for move in self.game.available_moves():\n",
    "            self.game.board[move] = \"O\"  # Simulate O making a move\n",
    "            score = self.minimax(self.game.board, 0, False)  # Evaluate using Minimax\n",
    "            self.game.board[move] = \" \"  # Undo the move\n",
    "            if score > best_score:\n",
    "                best_score = score  # Update the best score\n",
    "                best_move = move  # Store the best move\n",
    "        return best_move  # Return the best move found\n"
   ]
  },
  {
   "cell_type": "code",
   "execution_count": 26,
   "id": "ff6d26d5",
   "metadata": {
    "ExecuteTime": {
     "end_time": "2024-10-12T09:15:50.812629Z",
     "start_time": "2024-10-12T09:15:50.799646Z"
    }
   },
   "outputs": [],
   "source": [
    "\n",
    "# Class representing the agent that plays using random moves\n",
    "class RandomAgent:\n",
    "    def __init__(self, game):\n",
    "        self.game = game  # Reference to the game board\n",
    "\n",
    "    # Get a random move from the available positions\n",
    "    def get_move(self):\n",
    "        return random.choice(self.game.available_moves())\n",
    "\n",
    "# Function to let the user choose an agent\n",
    "def choose_agent():\n",
    "    print(\"Choose an agent to play against:\")\n",
    "    print(\"1. Minimax Agent (Hard)\")\n",
    "    print(\"2. Random Agent (Easy)\")\n",
    "    choice = input(\"Enter 1 or 2: \")\n",
    "    if choice == \"1\":\n",
    "        return \"minimax\"\n",
    "    elif choice == \"2\":\n",
    "        return \"random\"\n",
    "    else:\n",
    "        print(\"Invalid choice, defaulting to Random Agent.\")\n",
    "        return \"random\""
   ]
  },
  {
   "cell_type": "code",
   "execution_count": null,
   "id": "d0e2a355",
   "metadata": {},
   "outputs": [],
   "source": [
    "from semantic_segmentation import postion_played\n",
    "from pyniryo2 import *\n",
    "import pyniryo\n",
    "from matplotlib import pyplot as plt\n",
    "import cv2 as cv\n",
    "import time\n",
    "\n",
    "# robot_ip_address = \"10.10.10.10\"\n",
    "robot_ip_address = \"10.10.10.10\"\n",
    "\n",
    "# Connect to robot & calibrate\n",
    "robot = NiryoRobot(robot_ip_address)\n",
    "robot.arm.calibrate_auto()\n",
    "from recorded_positions import pickup_coordinates,dropoff_coordinates\n"
   ]
  },
  {
   "cell_type": "code",
   "execution_count": null,
   "id": "61eafaf5",
   "metadata": {},
   "outputs": [],
   "source": [
    "def get_pickup_coordinates(p):\n",
    "    return pickup_coordinates.get(p,'Invalid_position')\n",
    "def get_dropoff_coordinates(p):\n",
    "    return dropoff_coordinates.get(p,'Invalid_position')\n",
    "def go_up(position_coordinates):\n",
    "    coordinates=[0,0,0.03 ,0,0,0]\n",
    "    result = [a + b for a, b in zip(position_coordinates, coordinates)]\n",
    "    robot.arm.move_pose(result)\n",
    "\n",
    "def go_down(position_coordinates):\n",
    "    coordinates=[0,0,0.03 ,0,0,0]\n",
    "    result = [a + b for a, b in zip(position_coordinates, coordinates)]\n",
    "    robot.arm.move_pose(result)"
   ]
  },
  {
   "cell_type": "code",
   "execution_count": null,
   "id": "cc289783",
   "metadata": {},
   "outputs": [],
   "source": [
    "def play_move(pick_up_list,agent_move):\n",
    "    position_coordinates = get_pickup_coordinates(pick_up_list[0])\n",
    "    robot.arm.move_pose(position_coordinates)\n",
    "    robot.tool.grasp_with_tool()\n",
    "    go_up(position_coordinates)\n",
    "\n",
    "    position_coordinates = get_dropoff_coordinates(agent_move)\n",
    "    robot.arm.move_pose(position_coordinates)\n",
    "    go_down(position_coordinates)\n",
    "    robot.arm.move_pose(position_coordinates)\n",
    "    robot.tool.release_with_tool()\n",
    "\n",
    "    pick_up_list.pop(0)\n",
    "\n"
   ]
  },
  {
   "cell_type": "code",
   "execution_count": 27,
   "id": "429a756bb4d42054",
   "metadata": {
    "ExecuteTime": {
     "end_time": "2024-10-12T09:15:53.443249Z",
     "start_time": "2024-10-12T09:15:51.392953Z"
    }
   },
   "outputs": [
    {
     "name": "stdout",
     "output_type": "stream",
     "text": [
      "Choose an agent to play against:\n",
      "1. Minimax Agent (Hard)\n",
      "2. Random Agent (Easy)\n",
      "Agent plays at position: p9\n",
      "Agent plays at position: p6\n",
      "You win!\n",
      "['p1', 'p2', 'p3']\n",
      "['p9', 'p6']\n"
     ]
    },
    {
     "ename": "NameError",
     "evalue": "name 'robot' is not defined",
     "output_type": "error",
     "traceback": [
      "\u001b[1;31m---------------------------------------------------------------------------\u001b[0m",
      "\u001b[1;31mNameError\u001b[0m                                 Traceback (most recent call last)",
      "Cell \u001b[1;32mIn[27], line 56\u001b[0m\n\u001b[0;32m     53\u001b[0m play_game()\n\u001b[0;32m     54\u001b[0m \u001b[38;5;28;01mfrom\u001b[39;00m \u001b[38;5;21;01mclear_field\u001b[39;00m \u001b[38;5;28;01mimport\u001b[39;00m clear_space\n\u001b[1;32m---> 56\u001b[0m \u001b[43mclear_space\u001b[49m\u001b[43m(\u001b[49m\u001b[43mrobot_positions_stored\u001b[49m\u001b[43m,\u001b[49m\u001b[43mplayer_positions_stored\u001b[49m\u001b[43m)\u001b[49m\n",
      "File \u001b[1;32mc:\\Users\\kashi\\Desktop\\Working_projects\\spring_school\\spring_school\\Niryo-Coding-20240829\\clear_field.py:23\u001b[0m, in \u001b[0;36mclear_space\u001b[1;34m(played_positions_robot, played_positions_player)\u001b[0m\n\u001b[0;32m     20\u001b[0m player_storage_positions\u001b[38;5;241m=\u001b[39m[\u001b[38;5;124m'\u001b[39m\u001b[38;5;124mc6\u001b[39m\u001b[38;5;124m'\u001b[39m,\u001b[38;5;124m'\u001b[39m\u001b[38;5;124mc7\u001b[39m\u001b[38;5;124m'\u001b[39m,\u001b[38;5;124m'\u001b[39m\u001b[38;5;124mc8\u001b[39m\u001b[38;5;124m'\u001b[39m,\u001b[38;5;124m'\u001b[39m\u001b[38;5;124mc9\u001b[39m\u001b[38;5;124m'\u001b[39m,\u001b[38;5;124m'\u001b[39m\u001b[38;5;124mc10\u001b[39m\u001b[38;5;124m'\u001b[39m]\n\u001b[0;32m     22\u001b[0m \u001b[38;5;28;01mfor\u001b[39;00m i \u001b[38;5;129;01min\u001b[39;00m \u001b[38;5;28mrange\u001b[39m(\u001b[38;5;28mlen\u001b[39m(played_positions_robot)):\n\u001b[1;32m---> 23\u001b[0m     \u001b[43mrobot\u001b[49m\u001b[38;5;241m.\u001b[39marm\u001b[38;5;241m.\u001b[39mmove_pose(get_pickup_coordinates(played_positions_robot(i)))\n\u001b[0;32m     24\u001b[0m     robot\u001b[38;5;241m.\u001b[39mtool\u001b[38;5;241m.\u001b[39mgrasp_with_tool()\n\u001b[0;32m     25\u001b[0m     go_up(get_pickup_coordinates(played_positions_robot(i)))\n",
      "\u001b[1;31mNameError\u001b[0m: name 'robot' is not defined"
     ]
    }
   ],
   "source": [
    "\n",
    "# Main game loop\n",
    "def play_game():\n",
    "    game = TicTacToe()  # Initialize the game board\n",
    "    agent_type = choose_agent()  # Ask user to choose the agent\n",
    "\n",
    "    if agent_type == \"minimax\":\n",
    "        agent = MinimaxAgent(game)  # Use Minimax agent\n",
    "    else:\n",
    "        agent = RandomAgent(game)  # Use Random agent\n",
    "\n",
    "    global player_positions_stored\n",
    "    player_positions_stored=[]    # storing the positions which have chips\n",
    "    global robot_positions_stored\n",
    "    robot_positions_stored=[]\n",
    "    global pick_up_list\n",
    "    pick_up_list=['c1','c2','c3','c4','c5']\n",
    "    # Game loop\n",
    "    while True:\n",
    "        # Player X's turn (user)\n",
    "\n",
    "        position_input = position_played[-1]\n",
    "\n",
    "        position = int(position_input[1]) - 1  # Convert to 0-based index\n",
    "        if not game.make_move(position, \"X\"):  # If the move is invalid\n",
    "            print(\"Invalid move! Try again.\")\n",
    "            continue\n",
    "        player_positions_stored.append(position_input)\n",
    "        \n",
    "        if game.is_winner(\"X\"):\n",
    "            print(\"You win!\")\n",
    "            break\n",
    "        elif len(game.available_moves()) == 0:\n",
    "            print(\"It's a tie!\")\n",
    "            break\n",
    "\n",
    "        # Agent's turn (O)\n",
    "\n",
    "        \n",
    "        agent_move = agent.get_move()  # Get the move from the agent\n",
    "        play_move(pick_up_list,agent_move)\n",
    "\n",
    "        game.make_move(agent_move, \"O\") # Agent makes its move\n",
    "        print(f\"Agent plays at position: p{agent_move + 1}\")\n",
    "        position_played= f'p{agent_move +1 }'\n",
    "        robot_positions_stored.append(position_played)\n",
    "        if game.is_winner(\"O\"):\n",
    "            print(\"Agent wins!\")\n",
    "            break\n",
    "        elif len(game.available_moves()) == 0:\n",
    "            print(\"It's a tie!\")\n",
    "            break\n",
    "    print(player_positions_stored)\n",
    "    print(robot_positions_stored)\n",
    "\n",
    "\n",
    "# Start the game\n",
    "play_game()\n",
    "from clear_field import clear_space\n",
    "\n",
    "clear_space(robot_positions_stored,player_positions_stored)\n",
    "\n"
   ]
  },
  {
   "cell_type": "code",
   "execution_count": 15,
   "id": "133a2608",
   "metadata": {},
   "outputs": [
    {
     "ename": "SyntaxError",
     "evalue": "invalid syntax (681706079.py, line 1)",
     "output_type": "error",
     "traceback": [
      "\u001b[1;36m  Cell \u001b[1;32mIn[15], line 1\u001b[1;36m\u001b[0m\n\u001b[1;33m    from\u001b[0m\n\u001b[1;37m         ^\u001b[0m\n\u001b[1;31mSyntaxError\u001b[0m\u001b[1;31m:\u001b[0m invalid syntax\n"
     ]
    }
   ],
   "source": []
  }
 ],
 "metadata": {
  "kernelspec": {
   "display_name": "Python 3",
   "language": "python",
   "name": "python3"
  },
  "language_info": {
   "codemirror_mode": {
    "name": "ipython",
    "version": 3
   },
   "file_extension": ".py",
   "mimetype": "text/x-python",
   "name": "python",
   "nbconvert_exporter": "python",
   "pygments_lexer": "ipython3",
   "version": "3.12.4"
  }
 },
 "nbformat": 4,
 "nbformat_minor": 5
}
