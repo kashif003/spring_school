{
 "cells": [
  {
   "cell_type": "code",
   "execution_count": 11,
   "id": "47f031ae",
   "metadata": {},
   "outputs": [],
   "source": [
    "# !pip install pyniryo2\n",
    "# !pip install pyniryo\n",
    "# !pip install pynput"
   ]
  },
  {
   "cell_type": "code",
   "execution_count": 12,
   "id": "31947797",
   "metadata": {},
   "outputs": [],
   "source": [
    "# https://github.com/NiryoRobotics/pyniryo2\n",
    "# https://docs.niryo.com/dev/pyniryo2/v1.0.0/en/index.html"
   ]
  },
  {
   "cell_type": "code",
   "execution_count": 13,
   "id": "b7dd3115",
   "metadata": {},
   "outputs": [],
   "source": [
    "from pyniryo2 import *\n",
    "import pyniryo\n",
    "# from matplotlib import pyplot as plt\n",
    "import cv2 as cv\n",
    "import time\n",
    "\n",
    "# https://pynput.readthedocs.io/en/latest/keyboard.html\n",
    "from pynput import keyboard"
   ]
  },
  {
   "cell_type": "code",
   "execution_count": 14,
   "id": "a465a381",
   "metadata": {},
   "outputs": [],
   "source": [
    "robot_ip_address = \"169.254.200.200\"\n",
    "\n",
    "robot = NiryoRobot(robot_ip_address)\n",
    "robot.arm.calibrate_auto()\n",
    "robot.tool.update_tool()\n",
    "\n",
    "# ETH\n",
    "ros = robot.client\n",
    "vision = Vision(ros)"
   ]
  },
  {
   "cell_type": "code",
   "execution_count": 15,
   "id": "04e8a762",
   "metadata": {},
   "outputs": [],
   "source": [
    "def pose_observation():\n",
    "    j1 = 1.625\n",
    "    j2 = -0.164\n",
    "    j3 = 0.208\n",
    "    j4 = 0.037\n",
    "    j5 = -1.743\n",
    "    j6 = -1.515\n",
    "\n",
    "    robot.arm.move_joints([j1, j2, j3, j4, j5, j6])"
   ]
  },
  {
   "cell_type": "code",
   "execution_count": 16,
   "id": "87b38cea",
   "metadata": {},
   "outputs": [],
   "source": [
    "def pose_pickup_chip():\n",
    "    j1 = 1.969\n",
    "    j2 = -1.084\n",
    "    j3 = 0.252\n",
    "    j4 = -0.015\n",
    "    j5 = -0.816\n",
    "    j6 = -1.517\n",
    "\n",
    "    robot.arm.move_joints([j1, j2, j3, j4, j5, j6])"
   ]
  },
  {
   "cell_type": "code",
   "execution_count": 17,
   "id": "81d28f6c",
   "metadata": {},
   "outputs": [],
   "source": [
    "def pose_fix_release_chip():\n",
    "    j1 = 1.969\n",
    "    j2 = -1.084\n",
    "    j3 = 0.252\n",
    "    j4 = -0.015\n",
    "    j5 = -0.278\n",
    "    j6 = -1.517\n",
    "\n",
    "    robot.arm.move_joints([j1, j2, j3, j4, j5, j6])"
   ]
  },
  {
   "cell_type": "code",
   "execution_count": 18,
   "id": "93c8b2b9",
   "metadata": {},
   "outputs": [],
   "source": [
    "def pose_somewhere_else():\n",
    "    j1 = 1.96\n",
    "    j2 = -0.717\n",
    "    j3 = 0.278\n",
    "    j4 = 0.081\n",
    "    j5 = -0.859\n",
    "    j6 = -1.515\n",
    "\n",
    "    robot.arm.move_joints([j1, j2, j3, j4, j5, j6])"
   ]
  },
  {
   "cell_type": "code",
   "execution_count": 19,
   "id": "f6a2f2b8",
   "metadata": {},
   "outputs": [],
   "source": [
    "pose_observation()\n",
    "pose_pickup_chip()\n",
    "pose_fix_release_chip()\n",
    "pose_observation()"
   ]
  },
  {
   "cell_type": "code",
   "execution_count": 20,
   "id": "000b1e77",
   "metadata": {},
   "outputs": [
    {
     "ename": "KeyboardInterrupt",
     "evalue": "",
     "output_type": "error",
     "traceback": [
      "\u001b[0;31m---------------------------------------------------------------------------\u001b[0m",
      "\u001b[0;31mKeyboardInterrupt\u001b[0m                         Traceback (most recent call last)",
      "\u001b[1;32m/home/vision2/Desktop/pick_up_chip.ipynb Cell 10\u001b[0m line \u001b[0;36m3\n\u001b[1;32m      <a href='vscode-notebook-cell:/home/vision2/Desktop/pick_up_chip.ipynb#X12sZmlsZQ%3D%3D?line=0'>1</a>\u001b[0m \u001b[39mwhile\u001b[39;00m(\u001b[39mTrue\u001b[39;00m):\n\u001b[1;32m      <a href='vscode-notebook-cell:/home/vision2/Desktop/pick_up_chip.ipynb#X12sZmlsZQ%3D%3D?line=1'>2</a>\u001b[0m     pose_observation()\n\u001b[0;32m----> <a href='vscode-notebook-cell:/home/vision2/Desktop/pick_up_chip.ipynb#X12sZmlsZQ%3D%3D?line=2'>3</a>\u001b[0m     pose_pickup_chip()\n\u001b[1;32m      <a href='vscode-notebook-cell:/home/vision2/Desktop/pick_up_chip.ipynb#X12sZmlsZQ%3D%3D?line=3'>4</a>\u001b[0m     robot\u001b[39m.\u001b[39mtool\u001b[39m.\u001b[39mgrasp_with_tool()\n\u001b[1;32m      <a href='vscode-notebook-cell:/home/vision2/Desktop/pick_up_chip.ipynb#X12sZmlsZQ%3D%3D?line=4'>5</a>\u001b[0m     pose_somewhere_else()\n",
      "\u001b[1;32m/home/vision2/Desktop/pick_up_chip.ipynb Cell 10\u001b[0m line \u001b[0;36m9\n\u001b[1;32m      <a href='vscode-notebook-cell:/home/vision2/Desktop/pick_up_chip.ipynb#X12sZmlsZQ%3D%3D?line=5'>6</a>\u001b[0m j5 \u001b[39m=\u001b[39m \u001b[39m-\u001b[39m\u001b[39m0.816\u001b[39m\n\u001b[1;32m      <a href='vscode-notebook-cell:/home/vision2/Desktop/pick_up_chip.ipynb#X12sZmlsZQ%3D%3D?line=6'>7</a>\u001b[0m j6 \u001b[39m=\u001b[39m \u001b[39m-\u001b[39m\u001b[39m1.517\u001b[39m\n\u001b[0;32m----> <a href='vscode-notebook-cell:/home/vision2/Desktop/pick_up_chip.ipynb#X12sZmlsZQ%3D%3D?line=8'>9</a>\u001b[0m robot\u001b[39m.\u001b[39;49marm\u001b[39m.\u001b[39;49mmove_joints([j1, j2, j3, j4, j5, j6])\n",
      "File \u001b[0;32m~/.local/lib/python3.10/site-packages/pyniryo2/arm/arm.py:424\u001b[0m, in \u001b[0;36mArm.move_joints\u001b[0;34m(self, joints, callback)\u001b[0m\n\u001b[1;32m    422\u001b[0m goal\u001b[39m.\u001b[39msend(result_callback\u001b[39m=\u001b[39mcallback)\n\u001b[1;32m    423\u001b[0m \u001b[39mif\u001b[39;00m callback \u001b[39mis\u001b[39;00m \u001b[39mNone\u001b[39;00m:\n\u001b[0;32m--> 424\u001b[0m     _result \u001b[39m=\u001b[39m goal\u001b[39m.\u001b[39;49mwait(\u001b[39mself\u001b[39;49m\u001b[39m.\u001b[39;49m__action_timeout)\n",
      "File \u001b[0;32m~/.local/lib/python3.10/site-packages/roslibpy/actionlib.py:139\u001b[0m, in \u001b[0;36mGoal.wait\u001b[0;34m(self, timeout)\u001b[0m\n\u001b[1;32m    128\u001b[0m \u001b[39mdef\u001b[39;00m \u001b[39mwait\u001b[39m(\u001b[39mself\u001b[39m, timeout\u001b[39m=\u001b[39m\u001b[39mNone\u001b[39;00m):\n\u001b[1;32m    129\u001b[0m \u001b[39m    \u001b[39m\u001b[39m\"\"\"Block until the result is available.\u001b[39;00m\n\u001b[1;32m    130\u001b[0m \n\u001b[1;32m    131\u001b[0m \u001b[39m    If ``timeout`` is ``None``, it will wait indefinitely.\u001b[39;00m\n\u001b[0;32m   (...)\u001b[0m\n\u001b[1;32m    137\u001b[0m \u001b[39m        Result of the goal.\u001b[39;00m\n\u001b[1;32m    138\u001b[0m \u001b[39m    \"\"\"\u001b[39;00m\n\u001b[0;32m--> 139\u001b[0m     \u001b[39mif\u001b[39;00m \u001b[39mnot\u001b[39;00m \u001b[39mself\u001b[39;49m\u001b[39m.\u001b[39;49mwait_result\u001b[39m.\u001b[39;49mwait(timeout):\n\u001b[1;32m    140\u001b[0m         \u001b[39mraise\u001b[39;00m RosTimeoutError(\u001b[39m\"\u001b[39m\u001b[39mGoal failed to receive result\u001b[39m\u001b[39m\"\u001b[39m)\n\u001b[1;32m    142\u001b[0m     \u001b[39mreturn\u001b[39;00m \u001b[39mself\u001b[39m\u001b[39m.\u001b[39mresult\n",
      "File \u001b[0;32m/usr/lib/python3.10/threading.py:607\u001b[0m, in \u001b[0;36mEvent.wait\u001b[0;34m(self, timeout)\u001b[0m\n\u001b[1;32m    605\u001b[0m signaled \u001b[39m=\u001b[39m \u001b[39mself\u001b[39m\u001b[39m.\u001b[39m_flag\n\u001b[1;32m    606\u001b[0m \u001b[39mif\u001b[39;00m \u001b[39mnot\u001b[39;00m signaled:\n\u001b[0;32m--> 607\u001b[0m     signaled \u001b[39m=\u001b[39m \u001b[39mself\u001b[39;49m\u001b[39m.\u001b[39;49m_cond\u001b[39m.\u001b[39;49mwait(timeout)\n\u001b[1;32m    608\u001b[0m \u001b[39mreturn\u001b[39;00m signaled\n",
      "File \u001b[0;32m/usr/lib/python3.10/threading.py:324\u001b[0m, in \u001b[0;36mCondition.wait\u001b[0;34m(self, timeout)\u001b[0m\n\u001b[1;32m    322\u001b[0m \u001b[39melse\u001b[39;00m:\n\u001b[1;32m    323\u001b[0m     \u001b[39mif\u001b[39;00m timeout \u001b[39m>\u001b[39m \u001b[39m0\u001b[39m:\n\u001b[0;32m--> 324\u001b[0m         gotit \u001b[39m=\u001b[39m waiter\u001b[39m.\u001b[39;49macquire(\u001b[39mTrue\u001b[39;49;00m, timeout)\n\u001b[1;32m    325\u001b[0m     \u001b[39melse\u001b[39;00m:\n\u001b[1;32m    326\u001b[0m         gotit \u001b[39m=\u001b[39m waiter\u001b[39m.\u001b[39macquire(\u001b[39mFalse\u001b[39;00m)\n",
      "\u001b[0;31mKeyboardInterrupt\u001b[0m: "
     ]
    }
   ],
   "source": [
    "while(True):\n",
    "    pose_observation()\n",
    "    pose_pickup_chip()\n",
    "    robot.tool.grasp_with_tool()\n",
    "    pose_somewhere_else()\n",
    "    pose_pickup_chip()\n",
    "    robot.tool.release_with_tool()\n",
    "    pose_fix_release_chip()"
   ]
  }
 ],
 "metadata": {
  "kernelspec": {
   "display_name": "Python 3 (ipykernel)",
   "language": "python",
   "name": "python3"
  },
  "language_info": {
   "codemirror_mode": {
    "name": "ipython",
    "version": 3
   },
   "file_extension": ".py",
   "mimetype": "text/x-python",
   "name": "python",
   "nbconvert_exporter": "python",
   "pygments_lexer": "ipython3",
   "version": "3.10.12"
  }
 },
 "nbformat": 4,
 "nbformat_minor": 5
}
