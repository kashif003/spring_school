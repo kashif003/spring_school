{
 "cells": [
  {
   "cell_type": "code",
   "execution_count": null,
   "metadata": {},
   "outputs": [],
   "source": [
    "from recorded_positions import pickup_coordinates,dropoff_coordinates\n",
    "\n",
    "def get_pickup_coordinates(p):\n",
    "    return pickup_coordinates.get(p,'Invalid_position')\n",
    "def get_dropoff_coordinates(p):\n",
    "    return dropoff_coordinates.get(p,'Invalid_position')\n",
    "\n",
    "def go_up(position_coordinates):\n",
    "    coordinates=[0,0,0.03 ,0,0,0]\n",
    "    result = [a + b for a, b in zip(position_coordinates, coordinates)]\n",
    "    robot.arm.move_pose(result)\n",
    "\n",
    "def go_down(position_coordinates):\n",
    "    coordinates=[0,0,0.03 ,0,0,0]\n",
    "    result = [a + b for a, b in zip(position_coordinates, coordinates)]\n",
    "    robot.arm.move_pose(result)\n",
    "\n",
    "def clear_space(played_positions_robot,played_positions_player):\n",
    "    robot_storage_positions=['c1','c2','c3','c4','c5']\n",
    "    player_storage_positions=['c6','c7','c8','c9','c10']\n",
    "\n",
    "    for i in range(len(played_positions_robot)):\n",
    "        robot.arm.move_pose(get_pickup_coordinates(played_positions_robot(i)))\n",
    "        robot.tool.grasp_with_tool()\n",
    "        go_up(get_pickup_coordinates(played_positions_robot(i)))\n",
    "\n",
    "        go_down(get_dropoff_coordinates(robot_storage_positions(i)))\n",
    "        robot.arm.move_pose(get_dropoff_coordinates(robot_storage_positions(i)))\n",
    "        robot.tool.release_with_tool()\n",
    "\n",
    "    for i in range(len(played_positions_player)):\n",
    "        robot.arm.move_pose(get_pickup_coordinates(played_positions_player(i)))\n",
    "        robot.tool.grasp_with_tool()\n",
    "        go_up(get_pickup_coordinates(played_positions_player(i)))\n",
    "\n",
    "        go_down(get_dropoff_coordinates(player_storage_positions(i)))\n",
    "        robot.arm.move_pose(get_dropoff_coordinates(player_storage_positions(i)))\n",
    "        robot.tool.release_with_tool()\n",
    "\n",
    "    robot.arm.move_pose(get_dropoff_coordinates('h0'))\n",
    "\n",
    "    \n",
    "\n",
    "    \n",
    "\n",
    "\n",
    "\n",
    "\n",
    "\n",
    "\n",
    "    "
   ]
  }
 ],
 "metadata": {
  "kernelspec": {
   "display_name": "Python 3",
   "language": "python",
   "name": "python3"
  },
  "language_info": {
   "name": "python",
   "version": "3.12.4"
  }
 },
 "nbformat": 4,
 "nbformat_minor": 2
}
