{
 "cells": [
  {
   "cell_type": "code",
   "execution_count": 7,
   "id": "47f031ae",
   "metadata": {},
   "outputs": [],
   "source": [
    "# !pip install pyniryo2\n",
    "# !pip install pyniryo"
   ]
  },
  {
   "cell_type": "code",
   "execution_count": 8,
   "id": "31947797",
   "metadata": {},
   "outputs": [],
   "source": [
    "# https://github.com/NiryoRobotics/pyniryo2\n",
    "# https://docs.niryo.com/dev/pyniryo2/v1.0.0/en/index.html"
   ]
  },
  {
   "cell_type": "code",
   "execution_count": 1,
   "id": "b7dd3115",
   "metadata": {},
   "outputs": [],
   "source": [
    "from pyniryo2 import *\n",
    "import pyniryo"
   ]
  },
  {
   "cell_type": "code",
   "execution_count": 2,
   "id": "620ef312",
   "metadata": {},
   "outputs": [],
   "source": [
    "# WIFI\n",
    "# robot = NiryoRobot(\"10.10.10.10\")\n",
    "# ETH\n",
    "robot = NiryoRobot(\"169.254.200.200\")"
   ]
  },
  {
   "cell_type": "code",
   "execution_count": 3,
   "id": "6af4e21a",
   "metadata": {},
   "outputs": [],
   "source": [
    "# ros_instance = NiryoRos(\"10.10.10.10\") # Hotspot\n",
    "# arm = Arm(ros_instance)\n",
    "# vision = Vision(ros_instance)"
   ]
  },
  {
   "cell_type": "code",
   "execution_count": 4,
   "id": "7a6cb1e7",
   "metadata": {},
   "outputs": [],
   "source": [
    "# Setzt Kalibrierung \"wirklich\" zurück, auch wenn es grad \"in Calibration\" ist.\n",
    "# arm.reset_calibration()\n",
    "\n",
    "# Kalibrieren, falls notwendig\n",
    "# arm.calibrate_auto()"
   ]
  },
  {
   "cell_type": "code",
   "execution_count": 5,
   "id": "2c65082e",
   "metadata": {},
   "outputs": [],
   "source": [
    "# ros_instance.close()"
   ]
  },
  {
   "cell_type": "code",
   "execution_count": 1,
   "id": "8fbb2e92",
   "metadata": {},
   "outputs": [
    {
     "name": "stdout",
     "output_type": "stream",
     "text": [
      "[2, 3, 4]\n",
      "[3, 4]\n",
      "[4]\n",
      "[]\n"
     ]
    }
   ],
   "source": []
  },
  {
   "cell_type": "code",
   "execution_count": 6,
   "id": "1e4883e5",
   "metadata": {},
   "outputs": [
    {
     "ename": "KeyboardInterrupt",
     "evalue": "",
     "output_type": "error",
     "traceback": [
      "\u001b[0;31m---------------------------------------------------------------------------\u001b[0m",
      "\u001b[0;31mKeyboardInterrupt\u001b[0m                         Traceback (most recent call last)",
      "Cell \u001b[0;32mIn[6], line 8\u001b[0m\n\u001b[1;32m      5\u001b[0m robot\u001b[38;5;241m.\u001b[39mwait(\u001b[38;5;241m1\u001b[39m)\n\u001b[1;32m      7\u001b[0m \u001b[38;5;66;03m# Kalibrieren, falls notwendig\u001b[39;00m\n\u001b[0;32m----> 8\u001b[0m \u001b[43mrobot\u001b[49m\u001b[38;5;241;43m.\u001b[39;49m\u001b[43marm\u001b[49m\u001b[38;5;241;43m.\u001b[39;49m\u001b[43mcalibrate_auto\u001b[49m\u001b[43m(\u001b[49m\u001b[43m)\u001b[49m\n\u001b[1;32m     10\u001b[0m \u001b[38;5;66;03m# Warten\u001b[39;00m\n\u001b[1;32m     11\u001b[0m robot\u001b[38;5;241m.\u001b[39mwait(\u001b[38;5;241m1\u001b[39m)\n",
      "File \u001b[0;32m~/.local/lib/python3.10/site-packages/pyniryo2/arm/arm.py:128\u001b[0m, in \u001b[0;36mArm.calibrate_auto\u001b[0;34m(self, callback, errback, timeout)\u001b[0m\n\u001b[1;32m    102\u001b[0m \u001b[38;5;28;01mdef\u001b[39;00m \u001b[38;5;21mcalibrate_auto\u001b[39m(\u001b[38;5;28mself\u001b[39m, callback\u001b[38;5;241m=\u001b[39m\u001b[38;5;28;01mNone\u001b[39;00m, errback\u001b[38;5;241m=\u001b[39m\u001b[38;5;28;01mNone\u001b[39;00m, timeout\u001b[38;5;241m=\u001b[39m\u001b[38;5;28;01mNone\u001b[39;00m):\n\u001b[1;32m    103\u001b[0m \u001b[38;5;250m    \u001b[39m\u001b[38;5;124;03m\"\"\"\u001b[39;00m\n\u001b[1;32m    104\u001b[0m \u001b[38;5;124;03m    Starts a automatic motors calibration if motors are not calibrated yet.\u001b[39;00m\n\u001b[1;32m    105\u001b[0m \n\u001b[0;32m   (...)\u001b[0m\n\u001b[1;32m    126\u001b[0m \u001b[38;5;124;03m    :rtype: None\u001b[39;00m\n\u001b[1;32m    127\u001b[0m \u001b[38;5;124;03m    \"\"\"\u001b[39;00m\n\u001b[0;32m--> 128\u001b[0m     \u001b[38;5;28;01mreturn\u001b[39;00m \u001b[38;5;28;43mself\u001b[39;49m\u001b[38;5;241;43m.\u001b[39;49m\u001b[43mcalibrate\u001b[49m\u001b[43m(\u001b[49m\u001b[43mCalibrateMode\u001b[49m\u001b[38;5;241;43m.\u001b[39;49m\u001b[43mAUTO\u001b[49m\u001b[43m,\u001b[49m\u001b[43m \u001b[49m\u001b[43mcallback\u001b[49m\u001b[43m,\u001b[49m\u001b[43m \u001b[49m\u001b[43merrback\u001b[49m\u001b[43m,\u001b[49m\u001b[43m \u001b[49m\u001b[43mtimeout\u001b[49m\u001b[43m)\u001b[49m\n",
      "File \u001b[0;32m~/.local/lib/python3.10/site-packages/pyniryo2/arm/arm.py:97\u001b[0m, in \u001b[0;36mArm.calibrate\u001b[0;34m(self, calibrate_mode, callback, errback, timeout)\u001b[0m\n\u001b[1;32m     95\u001b[0m     \u001b[38;5;28;01mreturn\u001b[39;00m\n\u001b[1;32m     96\u001b[0m \u001b[38;5;28;01melse\u001b[39;00m:\n\u001b[0;32m---> 97\u001b[0m     resp \u001b[38;5;241m=\u001b[39m \u001b[38;5;28;43mself\u001b[39;49m\u001b[38;5;241;43m.\u001b[39;49m\u001b[43m_services\u001b[49m\u001b[38;5;241;43m.\u001b[39;49m\u001b[43mrequest_calibration_service\u001b[49m\u001b[38;5;241;43m.\u001b[39;49m\u001b[43mcall\u001b[49m\u001b[43m(\u001b[49m\u001b[43mrequest\u001b[49m\u001b[43m,\u001b[49m\u001b[43m \u001b[49m\u001b[43mcallback\u001b[49m\u001b[38;5;241;43m=\u001b[39;49m\u001b[38;5;28;43;01mNone\u001b[39;49;00m\u001b[43m,\u001b[49m\u001b[43m \u001b[49m\u001b[43merrback\u001b[49m\u001b[38;5;241;43m=\u001b[39;49m\u001b[43merrback\u001b[49m\u001b[43m,\u001b[49m\n\u001b[1;32m     98\u001b[0m \u001b[43m                                                           \u001b[49m\u001b[43mtimeout\u001b[49m\u001b[38;5;241;43m=\u001b[39;49m\u001b[43mtimeout\u001b[49m\u001b[43m)\u001b[49m\n\u001b[1;32m     99\u001b[0m     \u001b[38;5;28mself\u001b[39m\u001b[38;5;241m.\u001b[39m_check_result_status(resp)\n\u001b[1;32m    100\u001b[0m     \u001b[38;5;28;01mreturn\u001b[39;00m wait_calibration_end()\n",
      "File \u001b[0;32m~/.local/lib/python3.10/site-packages/roslibpy/core.py:410\u001b[0m, in \u001b[0;36mService.call\u001b[0;34m(self, request, callback, errback, timeout)\u001b[0m\n\u001b[1;32m    407\u001b[0m     \u001b[38;5;28;01mreturn\u001b[39;00m\n\u001b[1;32m    409\u001b[0m \u001b[38;5;66;03m# Blocking mode\u001b[39;00m\n\u001b[0;32m--> 410\u001b[0m call_results \u001b[38;5;241m=\u001b[39m \u001b[38;5;28;43mself\u001b[39;49m\u001b[38;5;241;43m.\u001b[39;49m\u001b[43mros\u001b[49m\u001b[38;5;241;43m.\u001b[39;49m\u001b[43mcall_sync_service\u001b[49m\u001b[43m(\u001b[49m\u001b[43mmessage\u001b[49m\u001b[43m,\u001b[49m\u001b[43m \u001b[49m\u001b[43mtimeout\u001b[49m\u001b[43m)\u001b[49m\n\u001b[1;32m    411\u001b[0m \u001b[38;5;28;01mif\u001b[39;00m \u001b[38;5;124m\"\u001b[39m\u001b[38;5;124mexception\u001b[39m\u001b[38;5;124m\"\u001b[39m \u001b[38;5;129;01min\u001b[39;00m call_results:\n\u001b[1;32m    412\u001b[0m     \u001b[38;5;28;01mraise\u001b[39;00m ServiceException(call_results[\u001b[38;5;124m\"\u001b[39m\u001b[38;5;124mexception\u001b[39m\u001b[38;5;124m\"\u001b[39m])\n",
      "File \u001b[0;32m~/.local/lib/python3.10/site-packages/roslibpy/ros.py:256\u001b[0m, in \u001b[0;36mRos.call_sync_service\u001b[0;34m(self, message, timeout)\u001b[0m\n\u001b[1;32m    243\u001b[0m \u001b[38;5;250m\u001b[39m\u001b[38;5;124;03m\"\"\"Send a blocking service request to ROS once the connection is established,\u001b[39;00m\n\u001b[1;32m    244\u001b[0m \u001b[38;5;124;03mwaiting for the result to be return.\u001b[39;00m\n\u001b[1;32m    245\u001b[0m \n\u001b[0;32m   (...)\u001b[0m\n\u001b[1;32m    253\u001b[0m \u001b[38;5;124;03m    Either returns the service request results or raises a timeout exception.\u001b[39;00m\n\u001b[1;32m    254\u001b[0m \u001b[38;5;124;03m\"\"\"\u001b[39;00m\n\u001b[1;32m    255\u001b[0m get_call_results \u001b[38;5;241m=\u001b[39m \u001b[38;5;28mself\u001b[39m\u001b[38;5;241m.\u001b[39mget_service_request_callback(message)\n\u001b[0;32m--> 256\u001b[0m \u001b[38;5;28;01mreturn\u001b[39;00m \u001b[38;5;28;43mself\u001b[39;49m\u001b[38;5;241;43m.\u001b[39;49m\u001b[43mblocking_call_from_thread\u001b[49m\u001b[43m(\u001b[49m\u001b[43mget_call_results\u001b[49m\u001b[43m,\u001b[49m\u001b[43m \u001b[49m\u001b[43mtimeout\u001b[49m\u001b[43m)\u001b[49m\n",
      "File \u001b[0;32m~/.local/lib/python3.10/site-packages/roslibpy/ros.py:218\u001b[0m, in \u001b[0;36mRos.blocking_call_from_thread\u001b[0;34m(self, callback, timeout)\u001b[0m\n\u001b[1;32m    206\u001b[0m \u001b[38;5;28;01mdef\u001b[39;00m \u001b[38;5;21mblocking_call_from_thread\u001b[39m(\u001b[38;5;28mself\u001b[39m, callback, timeout):\n\u001b[1;32m    207\u001b[0m \u001b[38;5;250m    \u001b[39m\u001b[38;5;124;03m\"\"\"Call the given function from a thread, and wait for the result synchronously\u001b[39;00m\n\u001b[1;32m    208\u001b[0m \u001b[38;5;124;03m    for as long as the timeout will allow.\u001b[39;00m\n\u001b[1;32m    209\u001b[0m \n\u001b[0;32m   (...)\u001b[0m\n\u001b[1;32m    216\u001b[0m \u001b[38;5;124;03m        The results from the callback, or a timeout exception.\u001b[39;00m\n\u001b[1;32m    217\u001b[0m \u001b[38;5;124;03m    \"\"\"\u001b[39;00m\n\u001b[0;32m--> 218\u001b[0m     \u001b[38;5;28;01mreturn\u001b[39;00m \u001b[38;5;28;43mself\u001b[39;49m\u001b[38;5;241;43m.\u001b[39;49m\u001b[43mfactory\u001b[49m\u001b[38;5;241;43m.\u001b[39;49m\u001b[43mmanager\u001b[49m\u001b[38;5;241;43m.\u001b[39;49m\u001b[43mblocking_call_from_thread\u001b[49m\u001b[43m(\u001b[49m\u001b[43mcallback\u001b[49m\u001b[43m,\u001b[49m\u001b[43m \u001b[49m\u001b[43mtimeout\u001b[49m\u001b[43m)\u001b[49m\n",
      "File \u001b[0;32m~/.local/lib/python3.10/site-packages/roslibpy/comm/comm_autobahn.py:224\u001b[0m, in \u001b[0;36mTwistedEventLoopManager.blocking_call_from_thread\u001b[0;34m(self, callback, timeout)\u001b[0m\n\u001b[1;32m    222\u001b[0m \u001b[38;5;28;01mif\u001b[39;00m timeout:\n\u001b[1;32m    223\u001b[0m     result_placeholder\u001b[38;5;241m.\u001b[39maddTimeout(timeout, reactor, onTimeoutCancel\u001b[38;5;241m=\u001b[39m\u001b[38;5;28mself\u001b[39m\u001b[38;5;241m.\u001b[39mraise_timeout_exception)\n\u001b[0;32m--> 224\u001b[0m \u001b[38;5;28;01mreturn\u001b[39;00m \u001b[43mthreads\u001b[49m\u001b[38;5;241;43m.\u001b[39;49m\u001b[43mblockingCallFromThread\u001b[49m\u001b[43m(\u001b[49m\u001b[43mreactor\u001b[49m\u001b[43m,\u001b[49m\u001b[43m \u001b[49m\u001b[43mcallback\u001b[49m\u001b[43m,\u001b[49m\u001b[43m \u001b[49m\u001b[43mresult_placeholder\u001b[49m\u001b[43m)\u001b[49m\n",
      "File \u001b[0;32m~/.local/lib/python3.10/site-packages/twisted/internet/threads.py:118\u001b[0m, in \u001b[0;36mblockingCallFromThread\u001b[0;34m(reactor, f, *a, **kw)\u001b[0m\n\u001b[1;32m    115\u001b[0m     result\u001b[38;5;241m.\u001b[39maddBoth(queue\u001b[38;5;241m.\u001b[39mput)\n\u001b[1;32m    117\u001b[0m reactor\u001b[38;5;241m.\u001b[39mcallFromThread(_callFromThread)\n\u001b[0;32m--> 118\u001b[0m result \u001b[38;5;241m=\u001b[39m \u001b[43mqueue\u001b[49m\u001b[38;5;241;43m.\u001b[39;49m\u001b[43mget\u001b[49m\u001b[43m(\u001b[49m\u001b[43m)\u001b[49m\n\u001b[1;32m    119\u001b[0m \u001b[38;5;28;01mif\u001b[39;00m \u001b[38;5;28misinstance\u001b[39m(result, failure\u001b[38;5;241m.\u001b[39mFailure):\n\u001b[1;32m    120\u001b[0m     result\u001b[38;5;241m.\u001b[39mraiseException()\n",
      "File \u001b[0;32m/usr/lib/python3.10/queue.py:171\u001b[0m, in \u001b[0;36mQueue.get\u001b[0;34m(self, block, timeout)\u001b[0m\n\u001b[1;32m    169\u001b[0m \u001b[38;5;28;01melif\u001b[39;00m timeout \u001b[38;5;129;01mis\u001b[39;00m \u001b[38;5;28;01mNone\u001b[39;00m:\n\u001b[1;32m    170\u001b[0m     \u001b[38;5;28;01mwhile\u001b[39;00m \u001b[38;5;129;01mnot\u001b[39;00m \u001b[38;5;28mself\u001b[39m\u001b[38;5;241m.\u001b[39m_qsize():\n\u001b[0;32m--> 171\u001b[0m         \u001b[38;5;28;43mself\u001b[39;49m\u001b[38;5;241;43m.\u001b[39;49m\u001b[43mnot_empty\u001b[49m\u001b[38;5;241;43m.\u001b[39;49m\u001b[43mwait\u001b[49m\u001b[43m(\u001b[49m\u001b[43m)\u001b[49m\n\u001b[1;32m    172\u001b[0m \u001b[38;5;28;01melif\u001b[39;00m timeout \u001b[38;5;241m<\u001b[39m \u001b[38;5;241m0\u001b[39m:\n\u001b[1;32m    173\u001b[0m     \u001b[38;5;28;01mraise\u001b[39;00m \u001b[38;5;167;01mValueError\u001b[39;00m(\u001b[38;5;124m\"\u001b[39m\u001b[38;5;124m'\u001b[39m\u001b[38;5;124mtimeout\u001b[39m\u001b[38;5;124m'\u001b[39m\u001b[38;5;124m must be a non-negative number\u001b[39m\u001b[38;5;124m\"\u001b[39m)\n",
      "File \u001b[0;32m/usr/lib/python3.10/threading.py:320\u001b[0m, in \u001b[0;36mCondition.wait\u001b[0;34m(self, timeout)\u001b[0m\n\u001b[1;32m    318\u001b[0m \u001b[38;5;28;01mtry\u001b[39;00m:    \u001b[38;5;66;03m# restore state no matter what (e.g., KeyboardInterrupt)\u001b[39;00m\n\u001b[1;32m    319\u001b[0m     \u001b[38;5;28;01mif\u001b[39;00m timeout \u001b[38;5;129;01mis\u001b[39;00m \u001b[38;5;28;01mNone\u001b[39;00m:\n\u001b[0;32m--> 320\u001b[0m         \u001b[43mwaiter\u001b[49m\u001b[38;5;241;43m.\u001b[39;49m\u001b[43macquire\u001b[49m\u001b[43m(\u001b[49m\u001b[43m)\u001b[49m\n\u001b[1;32m    321\u001b[0m         gotit \u001b[38;5;241m=\u001b[39m \u001b[38;5;28;01mTrue\u001b[39;00m\n\u001b[1;32m    322\u001b[0m     \u001b[38;5;28;01melse\u001b[39;00m:\n",
      "\u001b[0;31mKeyboardInterrupt\u001b[0m: "
     ]
    }
   ],
   "source": [
    "while True:\n",
    "    # Setzt Kalibrierung \"wirklich\" zurück, auch wenn es grad \"in Calibration\" ist.\n",
    "    robot.arm.reset_calibration()\n",
    "\n",
    "    robot.wait(1)\n",
    "\n",
    "    # Kalibrieren, falls notwendig\n",
    "    robot.arm.calibrate_auto()\n",
    "\n",
    "    # Warten\n",
    "    robot.wait(1)"
   ]
  }
 ],
 "metadata": {
  "kernelspec": {
   "display_name": "Python 3",
   "language": "python",
   "name": "python3"
  },
  "language_info": {
   "codemirror_mode": {
    "name": "ipython",
    "version": 3
   },
   "file_extension": ".py",
   "mimetype": "text/x-python",
   "name": "python",
   "nbconvert_exporter": "python",
   "pygments_lexer": "ipython3",
   "version": "3.12.4"
  }
 },
 "nbformat": 4,
 "nbformat_minor": 5
}
