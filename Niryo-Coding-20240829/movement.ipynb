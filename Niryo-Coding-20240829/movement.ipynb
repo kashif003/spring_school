{
 "cells": [
  {
   "cell_type": "code",
   "metadata": {},
   "source": [
    "from pyniryo2 import *\n",
    "import pyniryo\n",
    "from matplotlib import pyplot as plt\n",
    "import cv2 as cv\n",
    "import time\n",
    "\n",
    "# robot_ip_address = \"10.10.10.10\"\n",
    "robot_ip_address = \"10.10.10.10\"\n",
    "\n",
    "# Connect to robot & calibrate\n",
    "robot = NiryoRobot(robot_ip_address)\n",
    "robot.arm.calibrate_auto()\n",
    "from recorded_positions import pickup_coordinates,dropoff_coordinates\n",
    "\n",
    "\n",
    "\n"
   ],
   "outputs": [],
   "execution_count": null
  },
  {
   "metadata": {},
   "cell_type": "code",
   "outputs": [],
   "execution_count": null,
   "source": [
    "robot.tool.update_tool()\n",
    "print (\"My current ToolID\", robot.tool.get_current_tool_id())"
   ]
  },
  {
   "metadata": {},
   "cell_type": "code",
   "outputs": [],
   "execution_count": null,
   "source": [
    "robot.tool.release_with_tool()\n",
    "def get_pickup_coordinates(p):\n",
    "    return pickup_coordinates.get(p,'Invalid_position')"
   ]
  },
  {
   "metadata": {},
   "cell_type": "code",
   "outputs": [],
   "execution_count": null,
   "source": [
    "def get_dropoff_coordinates(p):\n",
    "    return dropoff_coordinates.get(p,'Invalid_position')"
   ]
  },
  {
   "metadata": {},
   "cell_type": "code",
   "outputs": [],
   "execution_count": null,
   "source": [
    "# pickup position\n",
    "\n",
    "\n",
    "# get the robot to the home_position first\n",
    "home_position=get_pickup_coordinates('ho')\n",
    "robot.arm.move_pose(home_position)\n",
    "\n",
    "position= input(\"which position should the arm move to: \")\n",
    "position_coordinates = get_pickup_coordinates(position)\n",
    "robot.arm.move_pose(position_coordinates)\n",
    "print(f'Moved to position: {position_coordinates}')\n",
    "pose_read = robot.arm.get_pose()\n",
    "print(f'current coordinates of the robot: {pose_read } ')\n",
    "robot.tool.grasp_with_tool()\n",
    "\n",
    "position= input(\"which position should the arm move to: \")\n",
    "position_coordinates = get_dropoff_coordinates(position)\n",
    "robot.arm.move_pose(position_coordinates)\n",
    "print(f'Moved to position: {position_coordinates}')\n",
    "pose_read = robot.arm.get_pose()\n",
    "print(f'current coordinates of the robot: {pose_read } ')\n",
    "robot.tool.release_with_tool()\n",
    "\n",
    "home_position=get_pickup_coordinates('ho')\n",
    "robot.arm.move_pose(home_position)\n",
    "\n",
    "\n",
    "# home position name is h0.\n",
    "    "
   ]
  },
  {
   "metadata": {},
   "cell_type": "code",
   "outputs": [],
   "execution_count": null,
   "source": ""
  },
  {
   "cell_type": "code",
   "metadata": {},
   "source": [
    "# Move joints\n",
    "#robot.arm.move_joints([0.0, 0.0, 0.0, 0.0, 0.0, 0.0])\n",
    "# Turn learning mode ON\n",
    "#robot.arm.set_learning_mode(True)\n",
    "#robot.arm.move_joints([0.2, -0.3, 0.1, 0.0, 0.5, -0.8])\n",
    "#robot.arm.move_joints([0.0, 0.0, 0.0, 0.0, 0.0, 0.0])\n",
    "\n"
   ],
   "outputs": [],
   "execution_count": null
  },
  {
   "cell_type": "code",
   "metadata": {},
   "source": [
    "# Move joints\n",
    "#robot.arm.move_joints([0.0, 0.0, 0.0, 0.0, 0.0, 0.0])\n",
    "# Turn learning mode ON\n",
    "#robot.arm.set_learning_mode(True)\n",
    "#robot.arm.move_joints([0.2, -0.3, 0.1, 0.0, 0.5, -0.8])\n",
    "#robot.arm.move_joints([0.0, 0.0, 0.0, 0.0, 0.0, 0.0])\n"
   ],
   "outputs": [],
   "execution_count": null
  },
  {
   "cell_type": "code",
   "metadata": {},
   "source": [
    "\n",
    "'''\n",
    "pick_pose = PoseObject(\n",
    "x=0.30, y=0.0, z=0.15,\n",
    "roll=0, pitch=1.57, yaw=0.0\n",
    ")\n",
    "first_place_pose = PoseObject(\n",
    "    x=0.0, y=0.2, z=0.15,\n",
    "    roll=0, pitch=1.57, yaw=0.0\n",
    ")\n",
    "for i in range(2):\n",
    "    robot.arm.move_pose(pick_pose)\n",
    "    new_place_pose = first_place_pose.copy_with_offsets(x_offset=0.05 * i)\n",
    "    robot.arm.move_pose(new_place_pose)\n",
    "\n",
    "#robot.end()\n",
    "# Stop TCP connection\n",
    "robot.end()'''"
   ],
   "outputs": [],
   "execution_count": null
  }
 ],
 "metadata": {
  "kernelspec": {
   "display_name": "Python 3",
   "language": "python",
   "name": "python3"
  },
  "language_info": {
   "codemirror_mode": {
    "name": "ipython",
    "version": 3
   },
   "file_extension": ".py",
   "mimetype": "text/x-python",
   "name": "python",
   "nbconvert_exporter": "python",
   "pygments_lexer": "ipython3",
   "version": "3.10.12"
  }
 },
 "nbformat": 4,
 "nbformat_minor": 2
}
