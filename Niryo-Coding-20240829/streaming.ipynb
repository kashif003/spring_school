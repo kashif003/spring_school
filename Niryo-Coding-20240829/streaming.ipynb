{
 "cells": [
  {
   "cell_type": "code",
   "execution_count": 1,
   "id": "47f031ae",
   "metadata": {},
   "outputs": [],
   "source": [
    "# !pip install pyniryo2\n",
    "# !pip install pyniryo"
   ]
  },
  {
   "cell_type": "code",
   "execution_count": 2,
   "id": "31947797",
   "metadata": {},
   "outputs": [],
   "source": [
    "# https://github.com/NiryoRobotics/pyniryo2\n",
    "# https://docs.niryo.com/dev/pyniryo2/v1.0.0/en/index.html"
   ]
  },
  {
   "cell_type": "code",
   "execution_count": 1,
   "id": "b7dd3115",
   "metadata": {},
   "outputs": [],
   "source": [
    "from pyniryo2 import *\n",
    "import pyniryo\n",
    "from matplotlib import pyplot as plt\n",
    "import cv2 as cv\n",
    "import time"
   ]
  },
  {
   "cell_type": "code",
   "execution_count": 3,
   "id": "049c0006",
   "metadata": {},
   "outputs": [
    {
     "ename": "KeyboardInterrupt",
     "evalue": "",
     "output_type": "error",
     "traceback": [
      "\u001b[0;31m---------------------------------------------------------------------------\u001b[0m",
      "\u001b[0;31mKeyboardInterrupt\u001b[0m                         Traceback (most recent call last)",
      "Cell \u001b[0;32mIn[3], line 9\u001b[0m\n\u001b[1;32m      6\u001b[0m vision \u001b[38;5;241m=\u001b[39m Vision(ros_instance)\n\u001b[1;32m      8\u001b[0m \u001b[38;5;28;01mwhile\u001b[39;00m \u001b[38;5;28;01mTrue\u001b[39;00m:\n\u001b[0;32m----> 9\u001b[0m     img_compressed \u001b[38;5;241m=\u001b[39m \u001b[43mvision\u001b[49m\u001b[38;5;241;43m.\u001b[39;49m\u001b[43mget_img_compressed\u001b[49m\u001b[43m(\u001b[49m\u001b[43m)\u001b[49m\n\u001b[1;32m     10\u001b[0m     camera_info \u001b[38;5;241m=\u001b[39m vision\u001b[38;5;241m.\u001b[39mget_camera_intrinsics()\n\u001b[1;32m     12\u001b[0m     img \u001b[38;5;241m=\u001b[39m pyniryo\u001b[38;5;241m.\u001b[39muncompress_image(img_compressed)\n",
      "File \u001b[0;32m~/.local/lib/python3.10/site-packages/pyniryo2/niryo_topic.py:52\u001b[0m, in \u001b[0;36mNiryoTopic.__call__\u001b[0;34m(self)\u001b[0m\n\u001b[1;32m     50\u001b[0m \u001b[38;5;28mself\u001b[39m\u001b[38;5;241m.\u001b[39m__sync_event\u001b[38;5;241m.\u001b[39mclear()\n\u001b[1;32m     51\u001b[0m \u001b[38;5;28mself\u001b[39m\u001b[38;5;241m.\u001b[39m__topic\u001b[38;5;241m.\u001b[39msubscribe(\u001b[38;5;28mself\u001b[39m\u001b[38;5;241m.\u001b[39m__internal_callback)\n\u001b[0;32m---> 52\u001b[0m \u001b[38;5;28;43mself\u001b[39;49m\u001b[38;5;241;43m.\u001b[39;49m\u001b[43m__sync_event\u001b[49m\u001b[38;5;241;43m.\u001b[39;49m\u001b[43mwait\u001b[49m\u001b[43m(\u001b[49m\u001b[43mtimeout\u001b[49m\u001b[38;5;241;43m=\u001b[39;49m\u001b[38;5;28;43mself\u001b[39;49m\u001b[38;5;241;43m.\u001b[39;49m\u001b[43m__timeout\u001b[49m\u001b[43m)\u001b[49m\n\u001b[1;32m     53\u001b[0m \u001b[38;5;28mself\u001b[39m\u001b[38;5;241m.\u001b[39m__topic\u001b[38;5;241m.\u001b[39munsubscribe()\n\u001b[1;32m     54\u001b[0m \u001b[38;5;28;01mreturn\u001b[39;00m \u001b[38;5;28mself\u001b[39m\u001b[38;5;241m.\u001b[39m__sync_topic_value\n",
      "File \u001b[0;32m/usr/lib/python3.10/threading.py:607\u001b[0m, in \u001b[0;36mEvent.wait\u001b[0;34m(self, timeout)\u001b[0m\n\u001b[1;32m    605\u001b[0m signaled \u001b[38;5;241m=\u001b[39m \u001b[38;5;28mself\u001b[39m\u001b[38;5;241m.\u001b[39m_flag\n\u001b[1;32m    606\u001b[0m \u001b[38;5;28;01mif\u001b[39;00m \u001b[38;5;129;01mnot\u001b[39;00m signaled:\n\u001b[0;32m--> 607\u001b[0m     signaled \u001b[38;5;241m=\u001b[39m \u001b[38;5;28;43mself\u001b[39;49m\u001b[38;5;241;43m.\u001b[39;49m\u001b[43m_cond\u001b[49m\u001b[38;5;241;43m.\u001b[39;49m\u001b[43mwait\u001b[49m\u001b[43m(\u001b[49m\u001b[43mtimeout\u001b[49m\u001b[43m)\u001b[49m\n\u001b[1;32m    608\u001b[0m \u001b[38;5;28;01mreturn\u001b[39;00m signaled\n",
      "File \u001b[0;32m/usr/lib/python3.10/threading.py:324\u001b[0m, in \u001b[0;36mCondition.wait\u001b[0;34m(self, timeout)\u001b[0m\n\u001b[1;32m    322\u001b[0m \u001b[38;5;28;01melse\u001b[39;00m:\n\u001b[1;32m    323\u001b[0m     \u001b[38;5;28;01mif\u001b[39;00m timeout \u001b[38;5;241m>\u001b[39m \u001b[38;5;241m0\u001b[39m:\n\u001b[0;32m--> 324\u001b[0m         gotit \u001b[38;5;241m=\u001b[39m \u001b[43mwaiter\u001b[49m\u001b[38;5;241;43m.\u001b[39;49m\u001b[43macquire\u001b[49m\u001b[43m(\u001b[49m\u001b[38;5;28;43;01mTrue\u001b[39;49;00m\u001b[43m,\u001b[49m\u001b[43m \u001b[49m\u001b[43mtimeout\u001b[49m\u001b[43m)\u001b[49m\n\u001b[1;32m    325\u001b[0m     \u001b[38;5;28;01melse\u001b[39;00m:\n\u001b[1;32m    326\u001b[0m         gotit \u001b[38;5;241m=\u001b[39m waiter\u001b[38;5;241m.\u001b[39macquire(\u001b[38;5;28;01mFalse\u001b[39;00m)\n",
      "\u001b[0;31mKeyboardInterrupt\u001b[0m: "
     ]
    }
   ],
   "source": [
    "# WIFI\n",
    "# ros_instance = NiryoRos(\"10.10.10.10\")\n",
    "# ETH\n",
    "ros_instance = NiryoRos(\"169.254.200.200\")\n",
    "\n",
    "vision = Vision(ros_instance)\n",
    "\n",
    "while True:\n",
    "    img_compressed = vision.get_img_compressed()\n",
    "    camera_info = vision.get_camera_intrinsics()\n",
    "\n",
    "    img = pyniryo.uncompress_image(img_compressed)\n",
    "    img_uncompressed = img\n",
    "    img = pyniryo.undistort_image(img, camera_info.intrinsics, camera_info.distortion)\n",
    "\n",
    "    #plt.imshow(img) \n",
    "    cv.imshow(\"stream - raw\", img_uncompressed)\n",
    "    cv.imshow(\"stream - undistorted\", img)\n",
    "    cv.waitKey(1)\n",
    "\n",
    "    #time.sleep(0.1)\n",
    "    \n",
    "    \n",
    "    #cv.waitKey(0) \n",
    "    #cv.destroyWindow(\"stream\") "
   ]
  }
 ],
 "metadata": {
  "kernelspec": {
   "display_name": "Python 3 (ipykernel)",
   "language": "python",
   "name": "python3"
  },
  "language_info": {
   "codemirror_mode": {
    "name": "ipython",
    "version": 3
   },
   "file_extension": ".py",
   "mimetype": "text/x-python",
   "name": "python",
   "nbconvert_exporter": "python",
   "pygments_lexer": "ipython3",
   "version": "3.10.12"
  }
 },
 "nbformat": 4,
 "nbformat_minor": 5
}
