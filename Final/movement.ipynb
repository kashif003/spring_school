{
 "cells": [
  {
   "cell_type": "code",
   "execution_count": 1,
   "metadata": {},
   "outputs": [
    {
     "ename": "RosTimeoutError",
     "evalue": "Failed to connect to ROS",
     "output_type": "error",
     "traceback": [
      "\u001b[0;31m---------------------------------------------------------------------------\u001b[0m",
      "\u001b[0;31mRosTimeoutError\u001b[0m                           Traceback (most recent call last)",
      "Cell \u001b[0;32mIn[1], line 11\u001b[0m\n\u001b[1;32m      8\u001b[0m robot_ip_address \u001b[38;5;241m=\u001b[39m \u001b[38;5;124m\"\u001b[39m\u001b[38;5;124m10.10.10.10\u001b[39m\u001b[38;5;124m\"\u001b[39m\n\u001b[1;32m     10\u001b[0m \u001b[38;5;66;03m# Connect to robot & calibrate\u001b[39;00m\n\u001b[0;32m---> 11\u001b[0m robot \u001b[38;5;241m=\u001b[39m \u001b[43mNiryoRobot\u001b[49m\u001b[43m(\u001b[49m\u001b[43mrobot_ip_address\u001b[49m\u001b[43m)\u001b[49m\n\u001b[1;32m     12\u001b[0m robot\u001b[38;5;241m.\u001b[39marm\u001b[38;5;241m.\u001b[39mcalibrate_auto()\n\u001b[1;32m     13\u001b[0m \u001b[38;5;28;01mfrom\u001b[39;00m \u001b[38;5;21;01mrecorded_positions\u001b[39;00m \u001b[38;5;28;01mimport\u001b[39;00m pickup_coordinates,dropoff_coordinates\n",
      "File \u001b[0;32m~/.local/lib/python3.10/site-packages/pyniryo2/niryo_robot.py:40\u001b[0m, in \u001b[0;36mNiryoRobot.__init__\u001b[0;34m(self, ip_address, port)\u001b[0m\n\u001b[1;32m     38\u001b[0m \u001b[38;5;28mself\u001b[39m\u001b[38;5;241m.\u001b[39m__host \u001b[38;5;241m=\u001b[39m ip_address\n\u001b[1;32m     39\u001b[0m \u001b[38;5;28mself\u001b[39m\u001b[38;5;241m.\u001b[39m__port \u001b[38;5;241m=\u001b[39m port\n\u001b[0;32m---> 40\u001b[0m \u001b[38;5;28mself\u001b[39m\u001b[38;5;241m.\u001b[39m__client \u001b[38;5;241m=\u001b[39m \u001b[43mNiryoRos\u001b[49m\u001b[43m(\u001b[49m\u001b[43mip_address\u001b[49m\u001b[43m,\u001b[49m\u001b[43m \u001b[49m\u001b[43mport\u001b[49m\u001b[43m)\u001b[49m\n\u001b[1;32m     42\u001b[0m \u001b[38;5;28mself\u001b[39m\u001b[38;5;241m.\u001b[39m__vision \u001b[38;5;241m=\u001b[39m \u001b[38;5;28;01mNone\u001b[39;00m\n\u001b[1;32m     43\u001b[0m \u001b[38;5;28mself\u001b[39m\u001b[38;5;241m.\u001b[39m__pick_place \u001b[38;5;241m=\u001b[39m \u001b[38;5;28;01mNone\u001b[39;00m\n",
      "File \u001b[0;32m~/.local/lib/python3.10/site-packages/pyniryo2/niryo_ros.py:42\u001b[0m, in \u001b[0;36mNiryoRos.__init__\u001b[0;34m(self, ip_address, port)\u001b[0m\n\u001b[1;32m     39\u001b[0m \u001b[38;5;28mself\u001b[39m\u001b[38;5;241m.\u001b[39m__ping_loop_thread \u001b[38;5;241m=\u001b[39m Thread(target\u001b[38;5;241m=\u001b[39m\u001b[38;5;28mself\u001b[39m\u001b[38;5;241m.\u001b[39m__ping_loop)\n\u001b[1;32m     40\u001b[0m \u001b[38;5;28mself\u001b[39m\u001b[38;5;241m.\u001b[39m__pyniryo_ping_publisher \u001b[38;5;241m=\u001b[39m NiryoTopic(\u001b[38;5;28mself\u001b[39m, \u001b[38;5;124m'\u001b[39m\u001b[38;5;124m/ping_pyniryo\u001b[39m\u001b[38;5;124m'\u001b[39m, \u001b[38;5;124m'\u001b[39m\u001b[38;5;124mstd_msgs/Bool\u001b[39m\u001b[38;5;124m'\u001b[39m)\n\u001b[0;32m---> 42\u001b[0m \u001b[38;5;28;43mself\u001b[39;49m\u001b[38;5;241;43m.\u001b[39;49m\u001b[43mrun\u001b[49m\u001b[43m(\u001b[49m\u001b[43mtimeout\u001b[49m\u001b[38;5;241;43m=\u001b[39;49m\u001b[38;5;241;43m5\u001b[39;49m\u001b[43m)\u001b[49m\n\u001b[1;32m     43\u001b[0m \u001b[38;5;28mself\u001b[39m\u001b[38;5;241m.\u001b[39m__ping_loop_thread\u001b[38;5;241m.\u001b[39mstart()\n\u001b[1;32m     44\u001b[0m \u001b[38;5;28mself\u001b[39m\u001b[38;5;241m.\u001b[39m_hardware_version \u001b[38;5;241m=\u001b[39m \u001b[38;5;28mself\u001b[39m\u001b[38;5;241m.\u001b[39mget_param(\u001b[38;5;124m\"\u001b[39m\u001b[38;5;124m/niryo_robot/hardware_version\u001b[39m\u001b[38;5;124m\"\u001b[39m)\n",
      "File \u001b[0;32m~/.local/lib/python3.10/site-packages/roslibpy/ros.py:105\u001b[0m, in \u001b[0;36mRos.run\u001b[0;34m(self, timeout)\u001b[0m\n\u001b[1;32m    102\u001b[0m \u001b[38;5;28mself\u001b[39m\u001b[38;5;241m.\u001b[39mfactory\u001b[38;5;241m.\u001b[39mon_ready(\u001b[38;5;28;01mlambda\u001b[39;00m _: wait_connect\u001b[38;5;241m.\u001b[39mset())\n\u001b[1;32m    104\u001b[0m \u001b[38;5;28;01mif\u001b[39;00m \u001b[38;5;129;01mnot\u001b[39;00m wait_connect\u001b[38;5;241m.\u001b[39mwait(timeout):\n\u001b[0;32m--> 105\u001b[0m     \u001b[38;5;28;01mraise\u001b[39;00m RosTimeoutError(\u001b[38;5;124m\"\u001b[39m\u001b[38;5;124mFailed to connect to ROS\u001b[39m\u001b[38;5;124m\"\u001b[39m)\n",
      "\u001b[0;31mRosTimeoutError\u001b[0m: Failed to connect to ROS"
     ]
    }
   ],
   "source": [
    "from pyniryo2 import *\n",
    "import pyniryo\n",
    "from matplotlib import pyplot as plt\n",
    "import cv2 as cv\n",
    "import time\n",
    "\n",
    "# robot_ip_address = \"10.10.10.10\"\n",
    "robot_ip_address = \"169.254.200.200\"\n",
    "\n",
    "# Connect to robot & calibrate\n",
    "robot = NiryoRobot(robot_ip_address)\n",
    "robot.arm.calibrate_auto()\n",
    "from recorded_positions import pickup_coordinates,dropoff_coordinates\n",
    "\n",
    "\n",
    "\n"
   ]
  },
  {
   "cell_type": "code",
   "execution_count": 12,
   "metadata": {},
   "outputs": [],
   "source": [
    "robot.tool.release_with_tool()"
   ]
  },
  {
   "cell_type": "code",
   "execution_count": 13,
   "metadata": {},
   "outputs": [],
   "source": [
    "robot.tool.grasp_with_tool()"
   ]
  },
  {
   "cell_type": "code",
   "execution_count": 14,
   "metadata": {},
   "outputs": [
    {
     "name": "stdout",
     "output_type": "stream",
     "text": [
      "My current ToolID ToolID.VACUUM_PUMP_1\n"
     ]
    }
   ],
   "source": [
    "robot.tool.update_tool()\n",
    "print (\"My current ToolID\", robot.tool.get_current_tool_id())"
   ]
  },
  {
   "cell_type": "code",
   "execution_count": 15,
   "metadata": {},
   "outputs": [],
   "source": [
    "robot.tool.release_with_tool()\n",
    "def get_pickup_coordinates(p):\n",
    "    return pickup_coordinates.get(p,'Invalid_position')"
   ]
  },
  {
   "cell_type": "code",
   "execution_count": 16,
   "metadata": {},
   "outputs": [],
   "source": [
    "def get_dropoff_coordinates(p):\n",
    "    return dropoff_coordinates.get(p,'Invalid_position')"
   ]
  },
  {
   "cell_type": "code",
   "execution_count": 17,
   "metadata": {},
   "outputs": [
    {
     "ename": "RobotCommandException",
     "evalue": "Expected type: float.\nGiven: Invalid_position",
     "output_type": "error",
     "traceback": [
      "\u001b[0;31m---------------------------------------------------------------------------\u001b[0m",
      "\u001b[0;31mValueError\u001b[0m                                Traceback (most recent call last)",
      "File \u001b[0;32m~/.local/lib/python3.10/site-packages/pyniryo2/robot_commander.py:102\u001b[0m, in \u001b[0;36mRobotCommander._map_list\u001b[0;34m(self, list_, type_)\u001b[0m\n\u001b[1;32m    101\u001b[0m \u001b[38;5;28;01mtry\u001b[39;00m:\n\u001b[0;32m--> 102\u001b[0m     map_list \u001b[38;5;241m=\u001b[39m \u001b[38;5;28;43mlist\u001b[39;49m\u001b[43m(\u001b[49m\u001b[38;5;28;43mmap\u001b[39;49m\u001b[43m(\u001b[49m\u001b[43mtype_\u001b[49m\u001b[43m,\u001b[49m\u001b[43m \u001b[49m\u001b[43mlist_\u001b[49m\u001b[43m)\u001b[49m\u001b[43m)\u001b[49m\n\u001b[1;32m    103\u001b[0m     \u001b[38;5;28;01mreturn\u001b[39;00m map_list\n",
      "\u001b[0;31mValueError\u001b[0m: could not convert string to float: 'I'",
      "\nDuring handling of the above exception, another exception occurred:\n",
      "\u001b[0;31mRobotCommandException\u001b[0m                     Traceback (most recent call last)",
      "Cell \u001b[0;32mIn[17], line 10\u001b[0m\n\u001b[1;32m      8\u001b[0m position\u001b[38;5;241m=\u001b[39m \u001b[38;5;28minput\u001b[39m(\u001b[38;5;124m\"\u001b[39m\u001b[38;5;124mwhich position should the arm move to: \u001b[39m\u001b[38;5;124m\"\u001b[39m)\n\u001b[1;32m      9\u001b[0m position_coordinates \u001b[38;5;241m=\u001b[39m get_pickup_coordinates(position)\n\u001b[0;32m---> 10\u001b[0m \u001b[43mrobot\u001b[49m\u001b[38;5;241;43m.\u001b[39;49m\u001b[43marm\u001b[49m\u001b[38;5;241;43m.\u001b[39;49m\u001b[43mmove_pose\u001b[49m\u001b[43m(\u001b[49m\u001b[43mposition_coordinates\u001b[49m\u001b[43m)\u001b[49m\n\u001b[1;32m     11\u001b[0m \u001b[38;5;28mprint\u001b[39m(\u001b[38;5;124mf\u001b[39m\u001b[38;5;124m'\u001b[39m\u001b[38;5;124mMoved to position: \u001b[39m\u001b[38;5;132;01m{\u001b[39;00mposition_coordinates\u001b[38;5;132;01m}\u001b[39;00m\u001b[38;5;124m'\u001b[39m)\n\u001b[1;32m     12\u001b[0m pose_read \u001b[38;5;241m=\u001b[39m robot\u001b[38;5;241m.\u001b[39marm\u001b[38;5;241m.\u001b[39mget_pose()\n",
      "File \u001b[0;32m~/.local/lib/python3.10/site-packages/pyniryo2/arm/arm.py:497\u001b[0m, in \u001b[0;36mArm.move_pose\u001b[0;34m(self, pose, frame, callback)\u001b[0m\n\u001b[1;32m    494\u001b[0m     pose_list \u001b[38;5;241m=\u001b[39m [frame_position[axis] \u001b[38;5;28;01mfor\u001b[39;00m axis \u001b[38;5;129;01min\u001b[39;00m [\u001b[38;5;124m\"\u001b[39m\u001b[38;5;124mx\u001b[39m\u001b[38;5;124m\"\u001b[39m, \u001b[38;5;124m\"\u001b[39m\u001b[38;5;124my\u001b[39m\u001b[38;5;124m\"\u001b[39m, \u001b[38;5;124m\"\u001b[39m\u001b[38;5;124mz\u001b[39m\u001b[38;5;124m\"\u001b[39m]] \u001b[38;5;241m+\u001b[39m \\\n\u001b[1;32m    495\u001b[0m         [frame_rpy[axis] \u001b[38;5;28;01mfor\u001b[39;00m axis \u001b[38;5;129;01min\u001b[39;00m [\u001b[38;5;124m\"\u001b[39m\u001b[38;5;124mroll\u001b[39m\u001b[38;5;124m\"\u001b[39m, \u001b[38;5;124m\"\u001b[39m\u001b[38;5;124mpitch\u001b[39m\u001b[38;5;124m\"\u001b[39m, \u001b[38;5;124m\"\u001b[39m\u001b[38;5;124myaw\u001b[39m\u001b[38;5;124m\"\u001b[39m]]\n\u001b[1;32m    496\u001b[0m \u001b[38;5;28;01melse\u001b[39;00m:\n\u001b[0;32m--> 497\u001b[0m     pose_list \u001b[38;5;241m=\u001b[39m \u001b[38;5;28;43mself\u001b[39;49m\u001b[38;5;241;43m.\u001b[39;49m\u001b[43m__args_pose_to_list\u001b[49m\u001b[43m(\u001b[49m\u001b[43mpose\u001b[49m\u001b[43m)\u001b[49m\n\u001b[1;32m    499\u001b[0m goal \u001b[38;5;241m=\u001b[39m \u001b[38;5;28mself\u001b[39m\u001b[38;5;241m.\u001b[39m_actions\u001b[38;5;241m.\u001b[39mget_move_pose_goal(pose_list)\n\u001b[1;32m    500\u001b[0m goal\u001b[38;5;241m.\u001b[39msend(result_callback\u001b[38;5;241m=\u001b[39mcallback)\n",
      "File \u001b[0;32m~/.local/lib/python3.10/site-packages/pyniryo2/arm/arm.py:907\u001b[0m, in \u001b[0;36mArm.__args_pose_to_list\u001b[0;34m(self, *args)\u001b[0m\n\u001b[1;32m    904\u001b[0m \u001b[38;5;28;01melse\u001b[39;00m:\n\u001b[1;32m    905\u001b[0m     pose_list \u001b[38;5;241m=\u001b[39m args\n\u001b[0;32m--> 907\u001b[0m pose_list_float \u001b[38;5;241m=\u001b[39m \u001b[38;5;28;43mself\u001b[39;49m\u001b[38;5;241;43m.\u001b[39;49m\u001b[43m_map_list\u001b[49m\u001b[43m(\u001b[49m\u001b[43mpose_list\u001b[49m\u001b[43m,\u001b[49m\u001b[43m \u001b[49m\u001b[38;5;28;43mfloat\u001b[39;49m\u001b[43m)\u001b[49m\n\u001b[1;32m    908\u001b[0m \u001b[38;5;28;01mif\u001b[39;00m \u001b[38;5;28mlen\u001b[39m(pose_list_float) \u001b[38;5;241m!=\u001b[39m \u001b[38;5;241m6\u001b[39m:\n\u001b[1;32m    909\u001b[0m     \u001b[38;5;28mself\u001b[39m\u001b[38;5;241m.\u001b[39m_raise_exception(\u001b[38;5;124m\"\u001b[39m\u001b[38;5;124mA pose should contain 6 elements (x, y, z, roll, pitch, yaw)\u001b[39m\u001b[38;5;124m\"\u001b[39m)\n",
      "File \u001b[0;32m~/.local/lib/python3.10/site-packages/pyniryo2/robot_commander.py:105\u001b[0m, in \u001b[0;36mRobotCommander._map_list\u001b[0;34m(self, list_, type_)\u001b[0m\n\u001b[1;32m    103\u001b[0m     \u001b[38;5;28;01mreturn\u001b[39;00m map_list\n\u001b[1;32m    104\u001b[0m \u001b[38;5;28;01mexcept\u001b[39;00m \u001b[38;5;167;01mValueError\u001b[39;00m:\n\u001b[0;32m--> 105\u001b[0m     \u001b[38;5;28;43mself\u001b[39;49m\u001b[38;5;241;43m.\u001b[39;49m\u001b[43m_raise_exception_expected_type\u001b[49m\u001b[43m(\u001b[49m\u001b[43mtype_\u001b[49m\u001b[38;5;241;43m.\u001b[39;49m\u001b[38;5;18;43m__name__\u001b[39;49m\u001b[43m,\u001b[49m\u001b[43m \u001b[49m\u001b[43mlist_\u001b[49m\u001b[43m)\u001b[49m\n",
      "File \u001b[0;32m~/.local/lib/python3.10/site-packages/pyniryo2/robot_commander.py:175\u001b[0m, in \u001b[0;36mRobotCommander._raise_exception_expected_type\u001b[0;34m(self, expected_type, given)\u001b[0m\n\u001b[1;32m    174\u001b[0m \u001b[38;5;28;01mdef\u001b[39;00m \u001b[38;5;21m_raise_exception_expected_type\u001b[39m(\u001b[38;5;28mself\u001b[39m, expected_type, given):\n\u001b[0;32m--> 175\u001b[0m     \u001b[38;5;28;01mraise\u001b[39;00m RobotCommandException(\u001b[38;5;124m\"\u001b[39m\u001b[38;5;124mExpected type: \u001b[39m\u001b[38;5;132;01m{}\u001b[39;00m\u001b[38;5;124m.\u001b[39m\u001b[38;5;130;01m\\n\u001b[39;00m\u001b[38;5;124mGiven: \u001b[39m\u001b[38;5;132;01m{}\u001b[39;00m\u001b[38;5;124m\"\u001b[39m\u001b[38;5;241m.\u001b[39mformat(expected_type, given))\n",
      "\u001b[0;31mRobotCommandException\u001b[0m: Expected type: float.\nGiven: Invalid_position"
     ]
    }
   ],
   "source": [
    "# pickup position\n",
    "\n",
    "\n",
    "# get the robot to the home_position first\n",
    "home_position=get_pickup_coordinates('h0')\n",
    "robot.arm.move_pose(home_position)\n",
    "\n",
    "position= input(\"which position should the arm move to: \")\n",
    "position_coordinates = get_pickup_coordinates(position)\n",
    "robot.arm.move_pose(position_coordinates)\n",
    "print(f'Moved to position: {position_coordinates}')\n",
    "pose_read = robot.arm.get_pose()\n",
    "print(f'current coordinates of the robot: {pose_read } ')\n",
    "robot.tool.grasp_with_tool()\n",
    "\n",
    "home_position=get_pickup_coordinates('h0')\n",
    "robot.arm.move_pose(home_position)\n",
    "\n",
    "\n",
    "position= input(\"which position should the arm move to: \")\n",
    "position_coordinates = get_dropoff_coordinates(position)\n",
    "robot.arm.move_pose(position_coordinates)\n",
    "print(f'Moved to position: {position_coordinates}')\n",
    "pose_read = robot.arm.get_pose()\n",
    "print(f'current coordinates of the robot: {pose_read } ')\n",
    "robot.tool.release_with_tool()\n",
    "\n",
    "home_position=get_pickup_coordinates('h0')\n",
    "robot.arm.move_pose(home_position)\n",
    "\n",
    "\n",
    "# home position name is h0.\n",
    "    "
   ]
  },
  {
   "cell_type": "code",
   "execution_count": null,
   "metadata": {},
   "outputs": [],
   "source": []
  },
  {
   "cell_type": "code",
   "execution_count": null,
   "metadata": {},
   "outputs": [],
   "source": []
  },
  {
   "cell_type": "code",
   "execution_count": 28,
   "metadata": {},
   "outputs": [],
   "source": [
    "# Move joints\n",
    "#robot.arm.move_joints([0.0, 0.0, 0.0, 0.0, 0.0, 0.0])\n",
    "# Turn learning mode ON\n",
    "#robot.arm.set_learning_mode(True)\n",
    "#robot.arm.move_joints([0.2, -0.3, 0.1, 0.0, 0.5, -0.8])\n",
    "#robot.arm.move_joints([0.0, 0.0, 0.0, 0.0, 0.0, 0.0])\n",
    "\n"
   ]
  },
  {
   "cell_type": "code",
   "execution_count": 29,
   "metadata": {},
   "outputs": [],
   "source": [
    "# Move joints\n",
    "#robot.arm.move_joints([0.0, 0.0, 0.0, 0.0, 0.0, 0.0])\n",
    "# Turn learning mode ON\n",
    "#robot.arm.set_learning_mode(True)\n",
    "#robot.arm.move_joints([0.2, -0.3, 0.1, 0.0, 0.5, -0.8])\n",
    "#robot.arm.move_joints([0.0, 0.0, 0.0, 0.0, 0.0, 0.0])\n"
   ]
  },
  {
   "cell_type": "code",
   "execution_count": 30,
   "metadata": {},
   "outputs": [
    {
     "ename": "AttributeError",
     "evalue": "'PoseObject' object has no attribute 'ro2'",
     "output_type": "error",
     "traceback": [
      "\u001b[0;31m---------------------------------------------------------------------------\u001b[0m",
      "\u001b[0;31mAttributeError\u001b[0m                            Traceback (most recent call last)",
      "Cell \u001b[0;32mIn[30], line 2\u001b[0m\n\u001b[1;32m      1\u001b[0m pose_read \u001b[38;5;241m=\u001b[39m robot\u001b[38;5;241m.\u001b[39marm\u001b[38;5;241m.\u001b[39mget_pose()\n\u001b[0;32m----> 2\u001b[0m \u001b[38;5;28mprint\u001b[39m(\u001b[38;5;124mf\u001b[39m\u001b[38;5;124m'\u001b[39m\u001b[38;5;132;01m{\u001b[39;00m\u001b[38;5;28mround\u001b[39m(pose_read\u001b[38;5;241m.\u001b[39mx,\u001b[38;5;241m2\u001b[39m),\u001b[38;5;250m \u001b[39m\u001b[38;5;28mround\u001b[39m(pose_read\u001b[38;5;241m.\u001b[39my,\u001b[38;5;241m2\u001b[39m),\u001b[38;5;250m \u001b[39m\u001b[38;5;28mround\u001b[39m(pose_read\u001b[38;5;241m.\u001b[39mz,\u001b[38;5;241m2\u001b[39m),\u001b[38;5;250m \u001b[39m\u001b[38;5;28mround\u001b[39m(\u001b[43mpose_read\u001b[49m\u001b[38;5;241;43m.\u001b[39;49m\u001b[43mro2\u001b[49m),ll,\u001b[38;5;250m \u001b[39m\u001b[38;5;28mround\u001b[39m(pose_read\u001b[38;5;241m.\u001b[39mpi2),tch,\u001b[38;5;250m \u001b[39m\u001b[38;5;28mround\u001b[39m(pose_read\u001b[38;5;241m.\u001b[39mya2),w\u001b[38;5;132;01m}\u001b[39;00m\u001b[38;5;124m \u001b[39m\u001b[38;5;124m'\u001b[39m)\n",
      "\u001b[0;31mAttributeError\u001b[0m: 'PoseObject' object has no attribute 'ro2'"
     ]
    }
   ],
   "source": [
    "pose_read = robot.arm.get_pose()\n",
    "print(f'{round(pose_read.x,2), round(pose_read.y,2), round(pose_read.z,2), round(pose_read.ro2),ll, round(pose_read.pi2),tch, round(pose_read.ya2),w} ')\n"
   ]
  },
  {
   "cell_type": "code",
   "execution_count": 11,
   "metadata": {},
   "outputs": [
    {
     "data": {
      "text/plain": [
       "'\\npick_pose = PoseObject(\\nx=0.30, y=0.0, z=0.15,\\nroll=0, pitch=1.57, yaw=0.0\\n)\\nfirst_place_pose = PoseObject(\\n    x=0.0, y=0.2, z=0.15,\\n    roll=0, pitch=1.57, yaw=0.0\\n)\\nfor i in range(2):\\n    robot.arm.move_pose(pick_pose)\\n    new_place_pose = first_place_pose.copy_with_offsets(x_offset=0.05 * i)\\n    robot.arm.move_pose(new_place_pose)\\n\\n#robot.end()\\n# Stop TCP connection\\nrobot.end()'"
      ]
     },
     "execution_count": 11,
     "metadata": {},
     "output_type": "execute_result"
    }
   ],
   "source": [
    "\n",
    "'''\n",
    "pick_pose = PoseObject(\n",
    "x=0.30, y=0.0, z=0.15,\n",
    "roll=0, pitch=1.57, yaw=0.0\n",
    ")\n",
    "first_place_pose = PoseObject(\n",
    "    x=0.0, y=0.2, z=0.15,\n",
    "    roll=0, pitch=1.57, yaw=0.0\n",
    ")\n",
    "for i in range(2):\n",
    "    robot.arm.move_pose(pick_pose)\n",
    "    new_place_pose = first_place_pose.copy_with_offsets(x_offset=0.05 * i)\n",
    "    robot.arm.move_pose(new_place_pose)\n",
    "\n",
    "#robot.end()\n",
    "# Stop TCP connection\n",
    "robot.end()'''"
   ]
  }
 ],
 "metadata": {
  "kernelspec": {
   "display_name": "Python 3",
   "language": "python",
   "name": "python3"
  },
  "language_info": {
   "codemirror_mode": {
    "name": "ipython",
    "version": 3
   },
   "file_extension": ".py",
   "mimetype": "text/x-python",
   "name": "python",
   "nbconvert_exporter": "python",
   "pygments_lexer": "ipython3",
   "version": "3.10.12"
  }
 },
 "nbformat": 4,
 "nbformat_minor": 2
}
