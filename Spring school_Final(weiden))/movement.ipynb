{
 "cells": [
  {
   "cell_type": "code",
   "execution_count": 8,
   "metadata": {},
   "outputs": [],
   "source": [
    "from pyniryo2 import *\n",
    "import pyniryo\n",
    "from matplotlib import pyplot as plt\n",
    "import cv2 as cv\n",
    "import time\n",
    "\n",
    "# robot_ip_address = \"10.10.10.10\"\n",
    "robot_ip_address = \"169.254.200.200\"\n",
    "\n",
    "# Connect to robot & calibrate\n",
    "robot = NiryoRobot(robot_ip_address)\n",
    "robot.arm.calibrate_auto()\n",
    "from recorded_positions import pickup_coordinates,dropoff_coordinates\n",
    "\n",
    "\n",
    "\n"
   ]
  },
  {
   "cell_type": "code",
   "execution_count": 9,
   "metadata": {},
   "outputs": [],
   "source": [
    "robot.tool.release_with_tool()"
   ]
  },
  {
   "cell_type": "code",
   "execution_count": 10,
   "metadata": {},
   "outputs": [],
   "source": [
    "robot.tool.grasp_with_tool()"
   ]
  },
  {
   "cell_type": "code",
   "execution_count": null,
   "metadata": {},
   "outputs": [],
   "source": [
    "robot.tool.update_tool()\n",
    "print (\"My current ToolID\", robot.tool.get_current_tool_id())"
   ]
  },
  {
   "cell_type": "code",
   "execution_count": 12,
   "metadata": {},
   "outputs": [],
   "source": [
    "robot.tool.release_with_tool()\n",
    "def get_pickup_coordinates(p):\n",
    "    return pickup_coordinates.get(p,'Invalid_position')"
   ]
  },
  {
   "cell_type": "code",
   "execution_count": 13,
   "metadata": {},
   "outputs": [],
   "source": [
    "def get_dropoff_coordinates(p):\n",
    "    return dropoff_coordinates.get(p,'Invalid_position')"
   ]
  },
  {
   "cell_type": "code",
   "execution_count": null,
   "metadata": {},
   "outputs": [],
   "source": [
    "# pickup position\n",
    "\n",
    "\n",
    "# get the robot to the home_position first\n",
    "home_position=get_pickup_coordinates('h0')\n",
    "robot.arm.move_pose(home_position)\n",
    "\n",
    "position= input(\"which position should the arm move to: \")\n",
    "position_coordinates = get_pickup_coordinates(position)\n",
    "robot.arm.move_pose(position_coordinates)\n",
    "print(f'Moved to position: {position_coordinates}')\n",
    "pose_read = robot.arm.get_pose()\n",
    "print(f'current coordinates of the robot: {pose_read } ')\n",
    "robot.tool.grasp_with_tool()\n",
    "\n",
    "home_position=get_pickup_coordinates('h0')\n",
    "robot.arm.move_pose(home_position)\n",
    "\n",
    "\n",
    "position= input(\"which position should the arm move to: \")\n",
    "position_coordinates = get_dropoff_coordinates(position)\n",
    "robot.arm.move_pose(position_coordinates)\n",
    "print(f'Moved to position: {position_coordinates}')\n",
    "pose_read = robot.arm.get_pose()\n",
    "print(f'current coordinates of the robot: {pose_read } ')\n",
    "robot.tool.release_with_tool()\n",
    "\n",
    "home_position=get_pickup_coordinates('h0')\n",
    "robot.arm.move_pose(home_position)\n",
    "\n",
    "\n",
    "# home position name is h0.\n",
    "    "
   ]
  },
  {
   "cell_type": "code",
   "execution_count": null,
   "metadata": {},
   "outputs": [],
   "source": []
  },
  {
   "cell_type": "code",
   "execution_count": null,
   "metadata": {},
   "outputs": [],
   "source": []
  },
  {
   "cell_type": "code",
   "execution_count": 8,
   "metadata": {},
   "outputs": [],
   "source": [
    "# Move joints\n",
    "#robot.arm.move_joints([0.0, 0.0, 0.0, 0.0, 0.0, 0.0])\n",
    "# Turn learning mode ON\n",
    "#robot.arm.set_learning_mode(True)\n",
    "#robot.arm.move_joints([0.2, -0.3, 0.1, 0.0, 0.5, -0.8])\n",
    "#robot.arm.move_joints([0.0, 0.0, 0.0, 0.0, 0.0, 0.0])\n",
    "\n"
   ]
  },
  {
   "cell_type": "code",
   "execution_count": 9,
   "metadata": {},
   "outputs": [],
   "source": [
    "# Move joints\n",
    "#robot.arm.move_joints([0.0, 0.0, 0.0, 0.0, 0.0, 0.0])\n",
    "# Turn learning mode ON\n",
    "#robot.arm.set_learning_mode(True)\n",
    "#robot.arm.move_joints([0.2, -0.3, 0.1, 0.0, 0.5, -0.8])\n",
    "#robot.arm.move_joints([0.0, 0.0, 0.0, 0.0, 0.0, 0.0])\n"
   ]
  },
  {
   "cell_type": "code",
   "execution_count": null,
   "metadata": {},
   "outputs": [],
   "source": [
    "pose_read = robot.arm.get_pose()\n",
    "print(f'{round(pose_read.x,4), round(pose_read.y,4), round(pose_read.z,4), round(pose_read.roll,4), round(pose_read.pitch,4), round(pose_read.yaw,4)} ')\n"
   ]
  },
  {
   "cell_type": "code",
   "execution_count": null,
   "metadata": {},
   "outputs": [],
   "source": [
    "\n",
    "'''\n",
    "pick_pose = PoseObject(\n",
    "x=0.30, y=0.0, z=0.15,\n",
    "roll=0, pitch=1.57, yaw=0.0\n",
    ")\n",
    "first_place_pose = PoseObject(\n",
    "    x=0.0, y=0.2, z=0.15,\n",
    "    roll=0, pitch=1.57, yaw=0.0\n",
    ")\n",
    "for i in range(2):\n",
    "    robot.arm.move_pose(pick_pose)\n",
    "    new_place_pose = first_place_pose.copy_with_offsets(x_offset=0.05 * i)\n",
    "    robot.arm.move_pose(new_place_pose)\n",
    "\n",
    "#robot.end()\n",
    "# Stop TCP connection\n",
    "robot.end()'''"
   ]
  }
 ],
 "metadata": {
  "kernelspec": {
   "display_name": "Python 3",
   "language": "python",
   "name": "python3"
  },
  "language_info": {
   "codemirror_mode": {
    "name": "ipython",
    "version": 3
   },
   "file_extension": ".py",
   "mimetype": "text/x-python",
   "name": "python",
   "nbconvert_exporter": "python",
   "pygments_lexer": "ipython3",
   "version": "3.10.12"
  }
 },
 "nbformat": 4,
 "nbformat_minor": 2
}
